{
 "cells": [
  {
   "cell_type": "markdown",
   "metadata": {},
   "source": [
    "# Optimization\n",
    "\n",
    "In this practice session, we explicitely control for the optimisation algorithms, the activation functions, the parameter initilisation scheme and different forms of regularisation.\n"
   ]
  },
  {
   "cell_type": "code",
   "execution_count": 1,
   "metadata": {},
   "outputs": [],
   "source": [
    "# Modules\n",
    "import numpy as np\n",
    "import pandas as pd\n",
    "\n",
    "from matplotlib import pyplot\n",
    "from tensorflow.keras import callbacks, initializers, layers, losses, models, optimizers\n",
    "from sklearn import datasets, metrics, model_selection, preprocessing"
   ]
  },
  {
   "cell_type": "markdown",
   "metadata": {},
   "source": [
    "1. Load the `cancer` dataset and produce some descriptive statistics for the input and the target."
   ]
  },
  {
   "cell_type": "code",
   "execution_count": 2,
   "metadata": {},
   "outputs": [
    {
     "data": {
      "text/plain": [
       "1    357\n",
       "0    212\n",
       "Name: target, dtype: int64"
      ]
     },
     "execution_count": 2,
     "metadata": {},
     "output_type": "execute_result"
    }
   ],
   "source": [
    "# Loads dataset\n",
    "X, y = datasets.load_breast_cancer(return_X_y=True, as_frame=True)\n",
    "\n",
    "# Descriptive statistcs\n",
    "X.describe()\n",
    "y.value_counts()"
   ]
  },
  {
   "cell_type": "markdown",
   "metadata": {},
   "source": [
    "2. Split the data into a training (75%) and a test sample (25%) and standardise the input variables appropriately (see `sklearn.model_selection` and `sklearn.preprocessing`)."
   ]
  },
  {
   "cell_type": "code",
   "execution_count": 3,
   "metadata": {},
   "outputs": [],
   "source": [
    "# Train - test split\n",
    "X_train, X_test, y_train, y_test = model_selection.train_test_split(X, y.values.astype(float), test_size=0.25, random_state=0)\n",
    "\n",
    "# Standardisation\n",
    "scaler  = preprocessing.StandardScaler()\n",
    "X_train = scaler.fit_transform(X_train)\n",
    "X_test  = scaler.transform(X_test)"
   ]
  },
  {
   "cell_type": "markdown",
   "metadata": {},
   "source": [
    "3. Using the `tensorflow.keras` functional API, build a feed-forward network structure with an input layer, two hidden layers containing 32 units each with `relu` activation and the `HeNormal` initialisation, as well as an output layer with the appropriate activation function. Use the `summary` method of the model to visualise the structure."
   ]
  },
  {
   "cell_type": "code",
   "execution_count": 4,
   "metadata": {},
   "outputs": [
    {
     "name": "stdout",
     "output_type": "stream",
     "text": [
      "Model: \"simple_model\"\n",
      "_________________________________________________________________\n",
      " Layer (type)                Output Shape              Param #   \n",
      "=================================================================\n",
      " input_layer (InputLayer)    [(None, 30)]              0         \n",
      "                                                                 \n",
      " hidden_layer1 (Dense)       (None, 32)                992       \n",
      "                                                                 \n",
      " hidden_layer2 (Dense)       (None, 32)                1056      \n",
      "                                                                 \n",
      " output_layer (Dense)        (None, 1)                 33        \n",
      "                                                                 \n",
      "=================================================================\n",
      "Total params: 2,081\n",
      "Trainable params: 2,081\n",
      "Non-trainable params: 0\n",
      "_________________________________________________________________\n"
     ]
    },
    {
     "name": "stderr",
     "output_type": "stream",
     "text": [
      "/Users/clementgorin/miniforge3/envs/machinelearning/lib/python3.10/site-packages/keras/initializers/initializers_v2.py:120: UserWarning: The initializer HeNormal is unseeded and being called multiple times, which will return identical values  each time (even if the initializer is unseeded). Please update your code to provide a seed to the initializer, or avoid using the same initalizer instance more than once.\n",
      "  warnings.warn(\n"
     ]
    }
   ],
   "source": [
    "# Models structure\n",
    "def build_model(input_shape:int):\n",
    "  initializer = initializers.HeNormal(seed=0)\n",
    "  inputs  = layers.Input(shape=(input_shape,), name='input_layer')\n",
    "  hidden  = layers.Dense(units=32, activation='relu',    kernel_initializer=initializer, name='hidden_layer1')(inputs)\n",
    "  hidden  = layers.Dense(units=32, activation='relu',    kernel_initializer=initializer, name='hidden_layer2')(hidden)\n",
    "  outputs = layers.Dense(units=1,  activation='sigmoid', kernel_initializer=initializer, name='output_layer')(hidden)\n",
    "  model   = models.Model(inputs=inputs, outputs=outputs, name='simple_model')\n",
    "  return model\n",
    "\n",
    "# Builds model\n",
    "model = build_model(input_shape=30)\n",
    "model.summary()"
   ]
  },
  {
   "cell_type": "markdown",
   "metadata": {},
   "source": [
    "4. Compile the model with the appropriate loss function and an optimiser of you choice. Use the `metrics` parameter to monitor the evolution of the `Recall` and `Precision` scores for each training epoch during training. Train the model using 100 epochs."
   ]
  },
  {
   "cell_type": "code",
   "execution_count": 5,
   "metadata": {},
   "outputs": [
    {
     "name": "stdout",
     "output_type": "stream",
     "text": [
      "Epoch 1/100\n"
     ]
    },
    {
     "name": "stderr",
     "output_type": "stream",
     "text": [
      "2023-03-15 10:42:04.494391: W tensorflow/tsl/platform/profile_utils/cpu_utils.cc:128] Failed to get CPU frequency: 0 Hz\n"
     ]
    },
    {
     "name": "stdout",
     "output_type": "stream",
     "text": [
      "14/14 [==============================] - 0s 951us/step - loss: 1.1464 - binary_accuracy: 0.3638 - recall: 0.0150 - precision: 0.3333  \n",
      "Epoch 2/100\n",
      "14/14 [==============================] - 0s 790us/step - loss: 0.6800 - binary_accuracy: 0.5845 - recall: 0.3633 - precision: 0.9327\n",
      "Epoch 3/100\n",
      "14/14 [==============================] - 0s 741us/step - loss: 0.4607 - binary_accuracy: 0.8521 - recall: 0.7978 - precision: 0.9595\n",
      "Epoch 4/100\n",
      "14/14 [==============================] - 0s 833us/step - loss: 0.3370 - binary_accuracy: 0.9131 - recall: 0.9064 - precision: 0.9528\n",
      "Epoch 5/100\n",
      "14/14 [==============================] - 0s 720us/step - loss: 0.2648 - binary_accuracy: 0.9390 - recall: 0.9551 - precision: 0.9480\n",
      "Epoch 6/100\n",
      "14/14 [==============================] - 0s 711us/step - loss: 0.2134 - binary_accuracy: 0.9460 - recall: 0.9700 - precision: 0.9453\n",
      "Epoch 7/100\n",
      "14/14 [==============================] - 0s 730us/step - loss: 0.1804 - binary_accuracy: 0.9554 - recall: 0.9850 - precision: 0.9460\n",
      "Epoch 8/100\n",
      "14/14 [==============================] - 0s 612us/step - loss: 0.1543 - binary_accuracy: 0.9648 - recall: 0.9925 - precision: 0.9532\n",
      "Epoch 9/100\n",
      "14/14 [==============================] - 0s 652us/step - loss: 0.1360 - binary_accuracy: 0.9695 - recall: 0.9925 - precision: 0.9601\n",
      "Epoch 10/100\n",
      "14/14 [==============================] - 0s 600us/step - loss: 0.1213 - binary_accuracy: 0.9718 - recall: 0.9925 - precision: 0.9636\n",
      "Epoch 11/100\n",
      "14/14 [==============================] - 0s 616us/step - loss: 0.1094 - binary_accuracy: 0.9742 - recall: 0.9925 - precision: 0.9672\n",
      "Epoch 12/100\n",
      "14/14 [==============================] - 0s 609us/step - loss: 0.1000 - binary_accuracy: 0.9765 - recall: 0.9925 - precision: 0.9707\n",
      "Epoch 13/100\n",
      "14/14 [==============================] - 0s 589us/step - loss: 0.0920 - binary_accuracy: 0.9742 - recall: 0.9888 - precision: 0.9706\n",
      "Epoch 14/100\n",
      "14/14 [==============================] - 0s 594us/step - loss: 0.0851 - binary_accuracy: 0.9765 - recall: 0.9888 - precision: 0.9742\n",
      "Epoch 15/100\n",
      "14/14 [==============================] - 0s 643us/step - loss: 0.0790 - binary_accuracy: 0.9765 - recall: 0.9888 - precision: 0.9742\n",
      "Epoch 16/100\n",
      "14/14 [==============================] - 0s 568us/step - loss: 0.0740 - binary_accuracy: 0.9789 - recall: 0.9888 - precision: 0.9778\n",
      "Epoch 17/100\n",
      "14/14 [==============================] - 0s 589us/step - loss: 0.0698 - binary_accuracy: 0.9789 - recall: 0.9888 - precision: 0.9778\n",
      "Epoch 18/100\n",
      "14/14 [==============================] - 0s 597us/step - loss: 0.0657 - binary_accuracy: 0.9789 - recall: 0.9888 - precision: 0.9778\n",
      "Epoch 19/100\n",
      "14/14 [==============================] - 0s 570us/step - loss: 0.0623 - binary_accuracy: 0.9812 - recall: 0.9888 - precision: 0.9814\n",
      "Epoch 20/100\n",
      "14/14 [==============================] - 0s 609us/step - loss: 0.0593 - binary_accuracy: 0.9836 - recall: 0.9925 - precision: 0.9815\n",
      "Epoch 21/100\n",
      "14/14 [==============================] - 0s 597us/step - loss: 0.0568 - binary_accuracy: 0.9812 - recall: 0.9888 - precision: 0.9814\n",
      "Epoch 22/100\n",
      "14/14 [==============================] - 0s 580us/step - loss: 0.0541 - binary_accuracy: 0.9859 - recall: 0.9963 - precision: 0.9815\n",
      "Epoch 23/100\n",
      "14/14 [==============================] - 0s 591us/step - loss: 0.0518 - binary_accuracy: 0.9859 - recall: 0.9963 - precision: 0.9815\n",
      "Epoch 24/100\n",
      "14/14 [==============================] - 0s 584us/step - loss: 0.0497 - binary_accuracy: 0.9883 - recall: 0.9963 - precision: 0.9852\n",
      "Epoch 25/100\n",
      "14/14 [==============================] - 0s 636us/step - loss: 0.0484 - binary_accuracy: 0.9859 - recall: 0.9963 - precision: 0.9815\n",
      "Epoch 26/100\n",
      "14/14 [==============================] - 0s 632us/step - loss: 0.0459 - binary_accuracy: 0.9859 - recall: 0.9925 - precision: 0.9851\n",
      "Epoch 27/100\n",
      "14/14 [==============================] - 0s 605us/step - loss: 0.0446 - binary_accuracy: 0.9836 - recall: 0.9888 - precision: 0.9851\n",
      "Epoch 28/100\n",
      "14/14 [==============================] - 0s 569us/step - loss: 0.0432 - binary_accuracy: 0.9836 - recall: 0.9888 - precision: 0.9851\n",
      "Epoch 29/100\n",
      "14/14 [==============================] - 0s 633us/step - loss: 0.0416 - binary_accuracy: 0.9836 - recall: 0.9888 - precision: 0.9851\n",
      "Epoch 30/100\n",
      "14/14 [==============================] - 0s 569us/step - loss: 0.0412 - binary_accuracy: 0.9836 - recall: 0.9888 - precision: 0.9851\n",
      "Epoch 31/100\n",
      "14/14 [==============================] - 0s 618us/step - loss: 0.0392 - binary_accuracy: 0.9859 - recall: 0.9925 - precision: 0.9851\n",
      "Epoch 32/100\n",
      "14/14 [==============================] - 0s 590us/step - loss: 0.0376 - binary_accuracy: 0.9859 - recall: 0.9925 - precision: 0.9851\n",
      "Epoch 33/100\n",
      "14/14 [==============================] - 0s 619us/step - loss: 0.0364 - binary_accuracy: 0.9883 - recall: 0.9963 - precision: 0.9852\n",
      "Epoch 34/100\n",
      "14/14 [==============================] - 0s 570us/step - loss: 0.0351 - binary_accuracy: 0.9883 - recall: 0.9963 - precision: 0.9852\n",
      "Epoch 35/100\n",
      "14/14 [==============================] - 0s 571us/step - loss: 0.0340 - binary_accuracy: 0.9883 - recall: 0.9963 - precision: 0.9852\n",
      "Epoch 36/100\n",
      "14/14 [==============================] - 0s 607us/step - loss: 0.0327 - binary_accuracy: 0.9906 - recall: 1.0000 - precision: 0.9852\n",
      "Epoch 37/100\n",
      "14/14 [==============================] - 0s 613us/step - loss: 0.0317 - binary_accuracy: 0.9906 - recall: 1.0000 - precision: 0.9852\n",
      "Epoch 38/100\n",
      "14/14 [==============================] - 0s 574us/step - loss: 0.0307 - binary_accuracy: 0.9906 - recall: 1.0000 - precision: 0.9852\n",
      "Epoch 39/100\n",
      "14/14 [==============================] - 0s 595us/step - loss: 0.0299 - binary_accuracy: 0.9906 - recall: 1.0000 - precision: 0.9852\n",
      "Epoch 40/100\n",
      "14/14 [==============================] - 0s 600us/step - loss: 0.0289 - binary_accuracy: 0.9930 - recall: 1.0000 - precision: 0.9889\n",
      "Epoch 41/100\n",
      "14/14 [==============================] - 0s 582us/step - loss: 0.0279 - binary_accuracy: 0.9930 - recall: 1.0000 - precision: 0.9889\n",
      "Epoch 42/100\n",
      "14/14 [==============================] - 0s 586us/step - loss: 0.0270 - binary_accuracy: 0.9930 - recall: 1.0000 - precision: 0.9889\n",
      "Epoch 43/100\n",
      "14/14 [==============================] - 0s 621us/step - loss: 0.0260 - binary_accuracy: 0.9930 - recall: 1.0000 - precision: 0.9889\n",
      "Epoch 44/100\n",
      "14/14 [==============================] - 0s 579us/step - loss: 0.0251 - binary_accuracy: 0.9930 - recall: 1.0000 - precision: 0.9889\n",
      "Epoch 45/100\n",
      "14/14 [==============================] - 0s 589us/step - loss: 0.0241 - binary_accuracy: 0.9930 - recall: 1.0000 - precision: 0.9889\n",
      "Epoch 46/100\n",
      "14/14 [==============================] - 0s 577us/step - loss: 0.0233 - binary_accuracy: 0.9930 - recall: 1.0000 - precision: 0.9889\n",
      "Epoch 47/100\n",
      "14/14 [==============================] - 0s 582us/step - loss: 0.0226 - binary_accuracy: 0.9930 - recall: 1.0000 - precision: 0.9889\n",
      "Epoch 48/100\n",
      "14/14 [==============================] - 0s 566us/step - loss: 0.0218 - binary_accuracy: 0.9930 - recall: 1.0000 - precision: 0.9889\n",
      "Epoch 49/100\n",
      "14/14 [==============================] - 0s 575us/step - loss: 0.0210 - binary_accuracy: 0.9930 - recall: 1.0000 - precision: 0.9889\n",
      "Epoch 50/100\n",
      "14/14 [==============================] - 0s 569us/step - loss: 0.0202 - binary_accuracy: 0.9930 - recall: 1.0000 - precision: 0.9889\n",
      "Epoch 51/100\n",
      "14/14 [==============================] - 0s 552us/step - loss: 0.0192 - binary_accuracy: 0.9953 - recall: 1.0000 - precision: 0.9926\n",
      "Epoch 52/100\n",
      "14/14 [==============================] - 0s 536us/step - loss: 0.0184 - binary_accuracy: 0.9977 - recall: 1.0000 - precision: 0.9963\n",
      "Epoch 53/100\n",
      "14/14 [==============================] - 0s 572us/step - loss: 0.0180 - binary_accuracy: 0.9977 - recall: 1.0000 - precision: 0.9963\n",
      "Epoch 54/100\n",
      "14/14 [==============================] - 0s 577us/step - loss: 0.0171 - binary_accuracy: 0.9977 - recall: 1.0000 - precision: 0.9963\n",
      "Epoch 55/100\n",
      "14/14 [==============================] - 0s 589us/step - loss: 0.0164 - binary_accuracy: 0.9953 - recall: 1.0000 - precision: 0.9926\n",
      "Epoch 56/100\n",
      "14/14 [==============================] - 0s 578us/step - loss: 0.0159 - binary_accuracy: 0.9977 - recall: 1.0000 - precision: 0.9963\n",
      "Epoch 57/100\n",
      "14/14 [==============================] - 0s 551us/step - loss: 0.0151 - binary_accuracy: 0.9977 - recall: 1.0000 - precision: 0.9963\n",
      "Epoch 58/100\n",
      "14/14 [==============================] - 0s 568us/step - loss: 0.0145 - binary_accuracy: 0.9977 - recall: 1.0000 - precision: 0.9963\n",
      "Epoch 59/100\n",
      "14/14 [==============================] - 0s 553us/step - loss: 0.0140 - binary_accuracy: 0.9977 - recall: 1.0000 - precision: 0.9963\n",
      "Epoch 60/100\n",
      "14/14 [==============================] - 0s 593us/step - loss: 0.0136 - binary_accuracy: 0.9977 - recall: 1.0000 - precision: 0.9963\n",
      "Epoch 61/100\n",
      "14/14 [==============================] - 0s 572us/step - loss: 0.0129 - binary_accuracy: 0.9977 - recall: 1.0000 - precision: 0.9963\n",
      "Epoch 62/100\n",
      "14/14 [==============================] - 0s 602us/step - loss: 0.0124 - binary_accuracy: 0.9977 - recall: 1.0000 - precision: 0.9963\n",
      "Epoch 63/100\n",
      "14/14 [==============================] - 0s 596us/step - loss: 0.0120 - binary_accuracy: 0.9977 - recall: 1.0000 - precision: 0.9963\n",
      "Epoch 64/100\n",
      "14/14 [==============================] - 0s 565us/step - loss: 0.0116 - binary_accuracy: 0.9977 - recall: 1.0000 - precision: 0.9963\n",
      "Epoch 65/100\n",
      "14/14 [==============================] - 0s 605us/step - loss: 0.0110 - binary_accuracy: 0.9977 - recall: 1.0000 - precision: 0.9963\n",
      "Epoch 66/100\n",
      "14/14 [==============================] - 0s 572us/step - loss: 0.0106 - binary_accuracy: 0.9977 - recall: 1.0000 - precision: 0.9963\n",
      "Epoch 67/100\n",
      "14/14 [==============================] - 0s 557us/step - loss: 0.0102 - binary_accuracy: 0.9977 - recall: 1.0000 - precision: 0.9963\n",
      "Epoch 68/100\n",
      "14/14 [==============================] - 0s 621us/step - loss: 0.0100 - binary_accuracy: 0.9977 - recall: 1.0000 - precision: 0.9963\n",
      "Epoch 69/100\n",
      "14/14 [==============================] - 0s 598us/step - loss: 0.0094 - binary_accuracy: 0.9977 - recall: 1.0000 - precision: 0.9963\n",
      "Epoch 70/100\n",
      "14/14 [==============================] - 0s 557us/step - loss: 0.0090 - binary_accuracy: 1.0000 - recall: 1.0000 - precision: 1.0000\n",
      "Epoch 71/100\n",
      "14/14 [==============================] - 0s 599us/step - loss: 0.0088 - binary_accuracy: 0.9977 - recall: 1.0000 - precision: 0.9963\n",
      "Epoch 72/100\n",
      "14/14 [==============================] - 0s 567us/step - loss: 0.0083 - binary_accuracy: 0.9977 - recall: 1.0000 - precision: 0.9963\n",
      "Epoch 73/100\n",
      "14/14 [==============================] - 0s 614us/step - loss: 0.0080 - binary_accuracy: 1.0000 - recall: 1.0000 - precision: 1.0000\n",
      "Epoch 74/100\n",
      "14/14 [==============================] - 0s 582us/step - loss: 0.0078 - binary_accuracy: 1.0000 - recall: 1.0000 - precision: 1.0000\n",
      "Epoch 75/100\n",
      "14/14 [==============================] - 0s 579us/step - loss: 0.0075 - binary_accuracy: 1.0000 - recall: 1.0000 - precision: 1.0000\n",
      "Epoch 76/100\n",
      "14/14 [==============================] - 0s 537us/step - loss: 0.0071 - binary_accuracy: 1.0000 - recall: 1.0000 - precision: 1.0000\n",
      "Epoch 77/100\n",
      "14/14 [==============================] - 0s 552us/step - loss: 0.0069 - binary_accuracy: 1.0000 - recall: 1.0000 - precision: 1.0000\n",
      "Epoch 78/100\n",
      "14/14 [==============================] - 0s 558us/step - loss: 0.0067 - binary_accuracy: 1.0000 - recall: 1.0000 - precision: 1.0000\n",
      "Epoch 79/100\n",
      "14/14 [==============================] - 0s 564us/step - loss: 0.0065 - binary_accuracy: 1.0000 - recall: 1.0000 - precision: 1.0000\n",
      "Epoch 80/100\n",
      "14/14 [==============================] - 0s 603us/step - loss: 0.0063 - binary_accuracy: 1.0000 - recall: 1.0000 - precision: 1.0000\n",
      "Epoch 81/100\n",
      "14/14 [==============================] - 0s 569us/step - loss: 0.0061 - binary_accuracy: 1.0000 - recall: 1.0000 - precision: 1.0000\n",
      "Epoch 82/100\n",
      "14/14 [==============================] - 0s 576us/step - loss: 0.0058 - binary_accuracy: 1.0000 - recall: 1.0000 - precision: 1.0000\n",
      "Epoch 83/100\n",
      "14/14 [==============================] - 0s 591us/step - loss: 0.0056 - binary_accuracy: 1.0000 - recall: 1.0000 - precision: 1.0000\n",
      "Epoch 84/100\n",
      "14/14 [==============================] - 0s 593us/step - loss: 0.0054 - binary_accuracy: 1.0000 - recall: 1.0000 - precision: 1.0000\n",
      "Epoch 85/100\n",
      "14/14 [==============================] - 0s 558us/step - loss: 0.0052 - binary_accuracy: 1.0000 - recall: 1.0000 - precision: 1.0000\n",
      "Epoch 86/100\n",
      "14/14 [==============================] - 0s 577us/step - loss: 0.0051 - binary_accuracy: 1.0000 - recall: 1.0000 - precision: 1.0000\n",
      "Epoch 87/100\n",
      "14/14 [==============================] - 0s 574us/step - loss: 0.0049 - binary_accuracy: 1.0000 - recall: 1.0000 - precision: 1.0000\n",
      "Epoch 88/100\n",
      "14/14 [==============================] - 0s 566us/step - loss: 0.0047 - binary_accuracy: 1.0000 - recall: 1.0000 - precision: 1.0000\n",
      "Epoch 89/100\n",
      "14/14 [==============================] - 0s 547us/step - loss: 0.0046 - binary_accuracy: 1.0000 - recall: 1.0000 - precision: 1.0000\n",
      "Epoch 90/100\n",
      "14/14 [==============================] - 0s 599us/step - loss: 0.0044 - binary_accuracy: 1.0000 - recall: 1.0000 - precision: 1.0000\n",
      "Epoch 91/100\n",
      "14/14 [==============================] - 0s 554us/step - loss: 0.0043 - binary_accuracy: 1.0000 - recall: 1.0000 - precision: 1.0000\n",
      "Epoch 92/100\n",
      "14/14 [==============================] - 0s 565us/step - loss: 0.0041 - binary_accuracy: 1.0000 - recall: 1.0000 - precision: 1.0000\n",
      "Epoch 93/100\n",
      "14/14 [==============================] - 0s 536us/step - loss: 0.0040 - binary_accuracy: 1.0000 - recall: 1.0000 - precision: 1.0000\n",
      "Epoch 94/100\n",
      "14/14 [==============================] - 0s 568us/step - loss: 0.0039 - binary_accuracy: 1.0000 - recall: 1.0000 - precision: 1.0000\n",
      "Epoch 95/100\n",
      "14/14 [==============================] - 0s 573us/step - loss: 0.0038 - binary_accuracy: 1.0000 - recall: 1.0000 - precision: 1.0000\n",
      "Epoch 96/100\n",
      "14/14 [==============================] - 0s 539us/step - loss: 0.0036 - binary_accuracy: 1.0000 - recall: 1.0000 - precision: 1.0000\n",
      "Epoch 97/100\n",
      "14/14 [==============================] - 0s 825us/step - loss: 0.0035 - binary_accuracy: 1.0000 - recall: 1.0000 - precision: 1.0000\n",
      "Epoch 98/100\n",
      "14/14 [==============================] - 0s 845us/step - loss: 0.0036 - binary_accuracy: 1.0000 - recall: 1.0000 - precision: 1.0000\n",
      "Epoch 99/100\n",
      "14/14 [==============================] - 0s 706us/step - loss: 0.0033 - binary_accuracy: 1.0000 - recall: 1.0000 - precision: 1.0000\n",
      "Epoch 100/100\n",
      "14/14 [==============================] - 0s 545us/step - loss: 0.0032 - binary_accuracy: 1.0000 - recall: 1.0000 - precision: 1.0000\n"
     ]
    }
   ],
   "source": [
    "# Compiles model\n",
    "model.compile(\n",
    "    loss=losses.BinaryCrossentropy(),\n",
    "    optimizer=optimizers.Adam(learning_rate=0.001), \n",
    "    metrics=['BinaryAccuracy', 'Recall', 'Precision'])\n",
    "\n",
    "# Estimates model\n",
    "train_params = dict(epochs=100, verbose=1)\n",
    "training     = model.fit(X_train, y_train, **train_params)"
   ]
  },
  {
   "cell_type": "markdown",
   "metadata": {},
   "source": [
    "5. Display the evolution of the loss on the training sample during optimisation. This can be done by assigning the `model.fit` object e.g. `training = model.fit(...)` and using the history attribute e.g. `training.history`."
   ]
  },
  {
   "cell_type": "code",
   "execution_count": 6,
   "metadata": {},
   "outputs": [
    {
     "data": {
      "image/png": "[encoded data removed]",
      "text/plain": [
       "<Figure size 500x500 with 1 Axes>"
      ]
     },
     "metadata": {},
     "output_type": "display_data"
    }
   ],
   "source": [
    "def display_history(history:dict, stat:str='loss', validation:bool=False) -> None:\n",
    "    '''Displays training history for a statistic'''\n",
    "    fig, ax = pyplot.subplots(1, figsize=(5, 5))\n",
    "    ax.plot(history[stat], label='Training sample')\n",
    "    if validation:\n",
    "        ax.plot(history[f'val_{stat}'], label='Validation sample')\n",
    "    ax.set_title(f'Model training', fontsize=15)\n",
    "    ax.set_ylabel(stat.title())\n",
    "    ax.set_xlabel('Epoch')\n",
    "    ax.legend(frameon=False)\n",
    "    pyplot.tight_layout()\n",
    "    pyplot.show()\n",
    "\n",
    "# Plot history\n",
    "display_history(training.history)"
   ]
  },
  {
   "cell_type": "markdown",
   "metadata": {},
   "source": [
    "6. Compute the receiver operating characteristic (ROC) curve (see `metrics.roc_curve`) on the test sample to choose a probability threshold using Youden's J statistic. Using this threshold, compute the confusion matrix on the test sample."
   ]
  },
  {
   "cell_type": "code",
   "execution_count": 7,
   "metadata": {},
   "outputs": [
    {
     "name": "stdout",
     "output_type": "stream",
     "text": [
      "5/5 [==============================] - 0s 583us/step\n"
     ]
    },
    {
     "data": {
      "image/png": "[encoded data removed]",
      "text/plain": [
       "<Figure size 500x500 with 1 Axes>"
      ]
     },
     "metadata": {},
     "output_type": "display_data"
    },
    {
     "data": {
      "text/plain": [
       "<sklearn.metrics._plot.confusion_matrix.ConfusionMatrixDisplay at 0x17fc945b0>"
      ]
     },
     "execution_count": 7,
     "metadata": {},
     "output_type": "execute_result"
    },
    {
     "data": {
      "image/png": "[encoded data removed]",
      "text/plain": [
       "<Figure size 640x480 with 2 Axes>"
      ]
     },
     "metadata": {},
     "output_type": "display_data"
    }
   ],
   "source": [
    "def display_roc(fp_rates:np.ndarray, tp_rates:np.ndarray, thresholds:np.ndarray, best_index:int=None) -> None:\n",
    "    '''Displays ROC curve and AUC'''\n",
    "    auc     = metrics.auc(fp_rates, tp_rates)\n",
    "    fig, ax = pyplot.subplots(1, figsize=(5, 5))\n",
    "    ax.plot(fp_rates, tp_rates, color='blue', label=f'AUC: {auc:0.4f}')\n",
    "    ax.plot([0, 1], [0, 1], color='red', linestyle='dashed')\n",
    "    if best_index is not None:\n",
    "        ax.scatter(fp_rates[best_index], tp_rates[best_index], marker='o', c='lightgreen', s=7.5**2, edgecolor='black', zorder=2, label=f'Threshold: {thresholds[best_index]:0.4f}')\n",
    "    ax.set_title('Receiver operating characteristic')\n",
    "    ax.set_xlabel('False positive rate')\n",
    "    ax.set_ylabel('True positive rate')\n",
    "    ax.legend(loc='lower right', frameon=False)\n",
    "    pyplot.tight_layout()\n",
    "    pyplot.show()\n",
    "\n",
    "# ROC curve\n",
    "yh_test = np.squeeze(model.predict(X_test))\n",
    "fp_rates, tp_rates, thresholds = metrics.roc_curve(y_test, yh_test)\n",
    "youden = np.argmax(tp_rates - fp_rates)\n",
    "display_roc(fp_rates, tp_rates, thresholds, youden)\n",
    "\n",
    "# Confusion matrix\n",
    "confmat = metrics.confusion_matrix(y_test, yh_test > thresholds[youden])\n",
    "confmat = metrics.ConfusionMatrixDisplay(confusion_matrix=confmat)\n",
    "confmat.plot()"
   ]
  },
  {
   "cell_type": "markdown",
   "metadata": {},
   "source": [
    "7. Train the model with a validation sample using 25% of the training observations (see the `validation_split` argument). Implement an early stopping callback using a patience of 5 (see `keras.callbacks`). Display the evolution of the training and validation loss during training. Which epoch gave the model with the best generalisation performance?"
   ]
  },
  {
   "cell_type": "code",
   "execution_count": 8,
   "metadata": {},
   "outputs": [
    {
     "name": "stdout",
     "output_type": "stream",
     "text": [
      "Epoch 1/100\n"
     ]
    },
    {
     "name": "stderr",
     "output_type": "stream",
     "text": [
      "/Users/clementgorin/miniforge3/envs/machinelearning/lib/python3.10/site-packages/keras/initializers/initializers_v2.py:120: UserWarning: The initializer HeNormal is unseeded and being called multiple times, which will return identical values  each time (even if the initializer is unseeded). Please update your code to provide a seed to the initializer, or avoid using the same initalizer instance more than once.\n",
      "  warnings.warn(\n"
     ]
    },
    {
     "name": "stdout",
     "output_type": "stream",
     "text": [
      "10/10 [==============================] - 1s 15ms/step - loss: 0.8327 - binary_accuracy: 0.6552 - recall: 0.9951 - precision: 0.6495 - val_loss: 0.7359 - val_binary_accuracy: 0.6636 - val_recall: 1.0000 - val_precision: 0.6400\n",
      "Epoch 2/100\n",
      "10/10 [==============================] - 0s 3ms/step - loss: 0.5427 - binary_accuracy: 0.7304 - recall: 0.9852 - precision: 0.7067 - val_loss: 0.4471 - val_binary_accuracy: 0.8224 - val_recall: 0.9844 - val_precision: 0.7778\n",
      "Epoch 3/100\n",
      "10/10 [==============================] - 0s 2ms/step - loss: 0.3631 - binary_accuracy: 0.8621 - recall: 0.9852 - precision: 0.8299 - val_loss: 0.3191 - val_binary_accuracy: 0.8972 - val_recall: 0.9844 - val_precision: 0.8630\n",
      "Epoch 4/100\n",
      "10/10 [==============================] - 0s 3ms/step - loss: 0.2770 - binary_accuracy: 0.8997 - recall: 0.9852 - precision: 0.8734 - val_loss: 0.2515 - val_binary_accuracy: 0.9159 - val_recall: 0.9531 - val_precision: 0.9104\n",
      "Epoch 5/100\n",
      "10/10 [==============================] - 0s 3ms/step - loss: 0.2271 - binary_accuracy: 0.9279 - recall: 0.9901 - precision: 0.9054 - val_loss: 0.2102 - val_binary_accuracy: 0.9439 - val_recall: 0.9531 - val_precision: 0.9531\n",
      "Epoch 6/100\n",
      "10/10 [==============================] - 0s 3ms/step - loss: 0.1952 - binary_accuracy: 0.9404 - recall: 0.9901 - precision: 0.9220 - val_loss: 0.1801 - val_binary_accuracy: 0.9439 - val_recall: 0.9531 - val_precision: 0.9531\n",
      "Epoch 7/100\n",
      "10/10 [==============================] - 0s 3ms/step - loss: 0.1709 - binary_accuracy: 0.9436 - recall: 0.9901 - precision: 0.9263 - val_loss: 0.1589 - val_binary_accuracy: 0.9533 - val_recall: 0.9531 - val_precision: 0.9683\n",
      "Epoch 8/100\n",
      "10/10 [==============================] - 0s 3ms/step - loss: 0.1517 - binary_accuracy: 0.9530 - recall: 0.9852 - precision: 0.9434 - val_loss: 0.1426 - val_binary_accuracy: 0.9626 - val_recall: 0.9688 - val_precision: 0.9688\n",
      "Epoch 9/100\n",
      "10/10 [==============================] - 0s 3ms/step - loss: 0.1365 - binary_accuracy: 0.9561 - recall: 0.9852 - precision: 0.9479 - val_loss: 0.1291 - val_binary_accuracy: 0.9626 - val_recall: 0.9688 - val_precision: 0.9688\n",
      "Epoch 10/100\n",
      "10/10 [==============================] - 0s 3ms/step - loss: 0.1240 - binary_accuracy: 0.9624 - recall: 0.9901 - precision: 0.9526 - val_loss: 0.1185 - val_binary_accuracy: 0.9533 - val_recall: 0.9531 - val_precision: 0.9683\n",
      "Epoch 11/100\n",
      "10/10 [==============================] - 0s 2ms/step - loss: 0.1140 - binary_accuracy: 0.9687 - recall: 0.9852 - precision: 0.9662 - val_loss: 0.1100 - val_binary_accuracy: 0.9533 - val_recall: 0.9531 - val_precision: 0.9683\n",
      "Epoch 12/100\n",
      "10/10 [==============================] - 0s 2ms/step - loss: 0.1053 - binary_accuracy: 0.9781 - recall: 0.9901 - precision: 0.9757 - val_loss: 0.1026 - val_binary_accuracy: 0.9533 - val_recall: 0.9531 - val_precision: 0.9683\n",
      "Epoch 13/100\n",
      "10/10 [==============================] - 0s 2ms/step - loss: 0.0980 - binary_accuracy: 0.9781 - recall: 0.9901 - precision: 0.9757 - val_loss: 0.0956 - val_binary_accuracy: 0.9626 - val_recall: 0.9531 - val_precision: 0.9839\n",
      "Epoch 14/100\n",
      "10/10 [==============================] - 0s 2ms/step - loss: 0.0917 - binary_accuracy: 0.9781 - recall: 0.9901 - precision: 0.9757 - val_loss: 0.0907 - val_binary_accuracy: 0.9626 - val_recall: 0.9531 - val_precision: 0.9839\n",
      "Epoch 15/100\n",
      "10/10 [==============================] - 0s 2ms/step - loss: 0.0859 - binary_accuracy: 0.9781 - recall: 0.9901 - precision: 0.9757 - val_loss: 0.0863 - val_binary_accuracy: 0.9626 - val_recall: 0.9531 - val_precision: 0.9839\n",
      "Epoch 16/100\n",
      "10/10 [==============================] - 0s 2ms/step - loss: 0.0813 - binary_accuracy: 0.9812 - recall: 0.9901 - precision: 0.9805 - val_loss: 0.0814 - val_binary_accuracy: 0.9626 - val_recall: 0.9531 - val_precision: 0.9839\n",
      "Epoch 17/100\n",
      "10/10 [==============================] - 0s 3ms/step - loss: 0.0770 - binary_accuracy: 0.9812 - recall: 0.9901 - precision: 0.9805 - val_loss: 0.0778 - val_binary_accuracy: 0.9626 - val_recall: 0.9531 - val_precision: 0.9839\n",
      "Epoch 18/100\n",
      "10/10 [==============================] - 0s 3ms/step - loss: 0.0732 - binary_accuracy: 0.9812 - recall: 0.9901 - precision: 0.9805 - val_loss: 0.0750 - val_binary_accuracy: 0.9626 - val_recall: 0.9531 - val_precision: 0.9839\n",
      "Epoch 19/100\n",
      "10/10 [==============================] - 0s 2ms/step - loss: 0.0697 - binary_accuracy: 0.9812 - recall: 0.9901 - precision: 0.9805 - val_loss: 0.0708 - val_binary_accuracy: 0.9626 - val_recall: 0.9531 - val_precision: 0.9839\n",
      "Epoch 20/100\n",
      "10/10 [==============================] - 0s 2ms/step - loss: 0.0663 - binary_accuracy: 0.9812 - recall: 0.9901 - precision: 0.9805 - val_loss: 0.0689 - val_binary_accuracy: 0.9626 - val_recall: 0.9531 - val_precision: 0.9839\n",
      "Epoch 21/100\n",
      "10/10 [==============================] - 0s 2ms/step - loss: 0.0634 - binary_accuracy: 0.9812 - recall: 0.9901 - precision: 0.9805 - val_loss: 0.0662 - val_binary_accuracy: 0.9626 - val_recall: 0.9531 - val_precision: 0.9839\n",
      "Epoch 22/100\n",
      "10/10 [==============================] - 0s 2ms/step - loss: 0.0609 - binary_accuracy: 0.9812 - recall: 0.9901 - precision: 0.9805 - val_loss: 0.0640 - val_binary_accuracy: 0.9626 - val_recall: 0.9531 - val_precision: 0.9839\n",
      "Epoch 23/100\n",
      "10/10 [==============================] - 0s 2ms/step - loss: 0.0586 - binary_accuracy: 0.9812 - recall: 0.9901 - precision: 0.9805 - val_loss: 0.0630 - val_binary_accuracy: 0.9626 - val_recall: 0.9531 - val_precision: 0.9839\n",
      "Epoch 24/100\n",
      "10/10 [==============================] - 0s 2ms/step - loss: 0.0565 - binary_accuracy: 0.9843 - recall: 0.9951 - precision: 0.9806 - val_loss: 0.0615 - val_binary_accuracy: 0.9720 - val_recall: 0.9688 - val_precision: 0.9841\n",
      "Epoch 25/100\n",
      "10/10 [==============================] - 0s 2ms/step - loss: 0.0540 - binary_accuracy: 0.9843 - recall: 0.9951 - precision: 0.9806 - val_loss: 0.0594 - val_binary_accuracy: 0.9720 - val_recall: 0.9688 - val_precision: 0.9841\n",
      "Epoch 26/100\n",
      "10/10 [==============================] - 0s 2ms/step - loss: 0.0526 - binary_accuracy: 0.9843 - recall: 0.9951 - precision: 0.9806 - val_loss: 0.0570 - val_binary_accuracy: 0.9720 - val_recall: 0.9688 - val_precision: 0.9841\n",
      "Epoch 27/100\n",
      "10/10 [==============================] - 0s 2ms/step - loss: 0.0505 - binary_accuracy: 0.9875 - recall: 1.0000 - precision: 0.9807 - val_loss: 0.0566 - val_binary_accuracy: 0.9720 - val_recall: 0.9688 - val_precision: 0.9841\n",
      "Epoch 28/100\n",
      "10/10 [==============================] - 0s 2ms/step - loss: 0.0487 - binary_accuracy: 0.9875 - recall: 1.0000 - precision: 0.9807 - val_loss: 0.0558 - val_binary_accuracy: 0.9720 - val_recall: 0.9688 - val_precision: 0.9841\n",
      "Epoch 29/100\n",
      "10/10 [==============================] - 0s 2ms/step - loss: 0.0469 - binary_accuracy: 0.9875 - recall: 1.0000 - precision: 0.9807 - val_loss: 0.0545 - val_binary_accuracy: 0.9720 - val_recall: 0.9688 - val_precision: 0.9841\n",
      "Epoch 30/100\n",
      "10/10 [==============================] - 0s 2ms/step - loss: 0.0458 - binary_accuracy: 0.9875 - recall: 1.0000 - precision: 0.9807 - val_loss: 0.0524 - val_binary_accuracy: 0.9720 - val_recall: 0.9688 - val_precision: 0.9841\n",
      "Epoch 31/100\n",
      "10/10 [==============================] - 0s 2ms/step - loss: 0.0437 - binary_accuracy: 0.9875 - recall: 1.0000 - precision: 0.9807 - val_loss: 0.0523 - val_binary_accuracy: 0.9720 - val_recall: 0.9688 - val_precision: 0.9841\n",
      "Epoch 32/100\n",
      "10/10 [==============================] - 0s 2ms/step - loss: 0.0423 - binary_accuracy: 0.9875 - recall: 1.0000 - precision: 0.9807 - val_loss: 0.0517 - val_binary_accuracy: 0.9720 - val_recall: 0.9688 - val_precision: 0.9841\n",
      "Epoch 33/100\n",
      "10/10 [==============================] - 0s 2ms/step - loss: 0.0412 - binary_accuracy: 0.9875 - recall: 1.0000 - precision: 0.9807 - val_loss: 0.0505 - val_binary_accuracy: 0.9720 - val_recall: 0.9688 - val_precision: 0.9841\n",
      "Epoch 34/100\n",
      "10/10 [==============================] - 0s 2ms/step - loss: 0.0398 - binary_accuracy: 0.9875 - recall: 1.0000 - precision: 0.9807 - val_loss: 0.0506 - val_binary_accuracy: 0.9720 - val_recall: 0.9688 - val_precision: 0.9841\n",
      "Epoch 35/100\n",
      "10/10 [==============================] - 0s 2ms/step - loss: 0.0385 - binary_accuracy: 0.9906 - recall: 1.0000 - precision: 0.9854 - val_loss: 0.0498 - val_binary_accuracy: 0.9720 - val_recall: 0.9688 - val_precision: 0.9841\n",
      "Epoch 36/100\n",
      "10/10 [==============================] - 0s 2ms/step - loss: 0.0372 - binary_accuracy: 0.9906 - recall: 1.0000 - precision: 0.9854 - val_loss: 0.0498 - val_binary_accuracy: 0.9720 - val_recall: 0.9688 - val_precision: 0.9841\n",
      "Epoch 37/100\n",
      "10/10 [==============================] - 0s 2ms/step - loss: 0.0358 - binary_accuracy: 0.9906 - recall: 1.0000 - precision: 0.9854 - val_loss: 0.0490 - val_binary_accuracy: 0.9720 - val_recall: 0.9688 - val_precision: 0.9841\n",
      "Epoch 38/100\n",
      "10/10 [==============================] - 0s 2ms/step - loss: 0.0344 - binary_accuracy: 0.9906 - recall: 1.0000 - precision: 0.9854 - val_loss: 0.0483 - val_binary_accuracy: 0.9720 - val_recall: 0.9688 - val_precision: 0.9841\n",
      "Epoch 39/100\n",
      "10/10 [==============================] - 0s 2ms/step - loss: 0.0331 - binary_accuracy: 0.9937 - recall: 1.0000 - precision: 0.9902 - val_loss: 0.0480 - val_binary_accuracy: 0.9720 - val_recall: 0.9688 - val_precision: 0.9841\n",
      "Epoch 40/100\n",
      "10/10 [==============================] - 0s 3ms/step - loss: 0.0321 - binary_accuracy: 0.9937 - recall: 1.0000 - precision: 0.9902 - val_loss: 0.0469 - val_binary_accuracy: 0.9720 - val_recall: 0.9688 - val_precision: 0.9841\n",
      "Epoch 41/100\n",
      "10/10 [==============================] - 0s 3ms/step - loss: 0.0310 - binary_accuracy: 0.9937 - recall: 1.0000 - precision: 0.9902 - val_loss: 0.0465 - val_binary_accuracy: 0.9720 - val_recall: 0.9688 - val_precision: 0.9841\n",
      "Epoch 42/100\n",
      "10/10 [==============================] - 0s 2ms/step - loss: 0.0298 - binary_accuracy: 0.9937 - recall: 1.0000 - precision: 0.9902 - val_loss: 0.0464 - val_binary_accuracy: 0.9720 - val_recall: 0.9688 - val_precision: 0.9841\n",
      "Epoch 43/100\n",
      "10/10 [==============================] - 0s 3ms/step - loss: 0.0286 - binary_accuracy: 0.9937 - recall: 1.0000 - precision: 0.9902 - val_loss: 0.0462 - val_binary_accuracy: 0.9813 - val_recall: 0.9688 - val_precision: 1.0000\n",
      "Epoch 44/100\n",
      "10/10 [==============================] - 0s 3ms/step - loss: 0.0279 - binary_accuracy: 0.9937 - recall: 1.0000 - precision: 0.9902 - val_loss: 0.0455 - val_binary_accuracy: 0.9813 - val_recall: 0.9688 - val_precision: 1.0000\n",
      "Epoch 45/100\n",
      "10/10 [==============================] - 0s 2ms/step - loss: 0.0269 - binary_accuracy: 0.9937 - recall: 1.0000 - precision: 0.9902 - val_loss: 0.0456 - val_binary_accuracy: 0.9813 - val_recall: 0.9688 - val_precision: 1.0000\n",
      "Epoch 46/100\n",
      "10/10 [==============================] - 0s 2ms/step - loss: 0.0258 - binary_accuracy: 0.9937 - recall: 1.0000 - precision: 0.9902 - val_loss: 0.0445 - val_binary_accuracy: 0.9813 - val_recall: 0.9688 - val_precision: 1.0000\n",
      "Epoch 47/100\n",
      "10/10 [==============================] - 0s 3ms/step - loss: 0.0249 - binary_accuracy: 0.9937 - recall: 1.0000 - precision: 0.9902 - val_loss: 0.0444 - val_binary_accuracy: 0.9813 - val_recall: 0.9688 - val_precision: 1.0000\n",
      "Epoch 48/100\n",
      "10/10 [==============================] - 0s 3ms/step - loss: 0.0242 - binary_accuracy: 0.9937 - recall: 1.0000 - precision: 0.9902 - val_loss: 0.0442 - val_binary_accuracy: 0.9813 - val_recall: 0.9688 - val_precision: 1.0000\n",
      "Epoch 49/100\n",
      "10/10 [==============================] - 0s 3ms/step - loss: 0.0233 - binary_accuracy: 0.9937 - recall: 1.0000 - precision: 0.9902 - val_loss: 0.0436 - val_binary_accuracy: 0.9813 - val_recall: 0.9688 - val_precision: 1.0000\n",
      "Epoch 50/100\n",
      "10/10 [==============================] - 0s 2ms/step - loss: 0.0223 - binary_accuracy: 0.9937 - recall: 1.0000 - precision: 0.9902 - val_loss: 0.0428 - val_binary_accuracy: 0.9813 - val_recall: 0.9688 - val_precision: 1.0000\n",
      "Epoch 51/100\n",
      "10/10 [==============================] - 0s 2ms/step - loss: 0.0218 - binary_accuracy: 0.9937 - recall: 1.0000 - precision: 0.9902 - val_loss: 0.0429 - val_binary_accuracy: 0.9813 - val_recall: 0.9688 - val_precision: 1.0000\n",
      "Epoch 52/100\n",
      "10/10 [==============================] - 0s 3ms/step - loss: 0.0209 - binary_accuracy: 0.9937 - recall: 1.0000 - precision: 0.9902 - val_loss: 0.0427 - val_binary_accuracy: 0.9813 - val_recall: 0.9688 - val_precision: 1.0000\n",
      "Epoch 53/100\n",
      "10/10 [==============================] - 0s 2ms/step - loss: 0.0203 - binary_accuracy: 0.9937 - recall: 1.0000 - precision: 0.9902 - val_loss: 0.0424 - val_binary_accuracy: 0.9813 - val_recall: 0.9688 - val_precision: 1.0000\n",
      "Epoch 54/100\n",
      "10/10 [==============================] - 0s 2ms/step - loss: 0.0197 - binary_accuracy: 0.9937 - recall: 1.0000 - precision: 0.9902 - val_loss: 0.0417 - val_binary_accuracy: 0.9813 - val_recall: 0.9688 - val_precision: 1.0000\n",
      "Epoch 55/100\n",
      "10/10 [==============================] - 0s 3ms/step - loss: 0.0191 - binary_accuracy: 0.9937 - recall: 1.0000 - precision: 0.9902 - val_loss: 0.0408 - val_binary_accuracy: 0.9813 - val_recall: 0.9688 - val_precision: 1.0000\n",
      "Epoch 56/100\n",
      "10/10 [==============================] - 0s 2ms/step - loss: 0.0184 - binary_accuracy: 0.9937 - recall: 1.0000 - precision: 0.9902 - val_loss: 0.0408 - val_binary_accuracy: 0.9813 - val_recall: 0.9688 - val_precision: 1.0000\n",
      "Epoch 57/100\n",
      "10/10 [==============================] - 0s 2ms/step - loss: 0.0179 - binary_accuracy: 0.9937 - recall: 1.0000 - precision: 0.9902 - val_loss: 0.0414 - val_binary_accuracy: 0.9813 - val_recall: 0.9688 - val_precision: 1.0000\n",
      "Epoch 58/100\n",
      "10/10 [==============================] - 0s 2ms/step - loss: 0.0173 - binary_accuracy: 0.9937 - recall: 1.0000 - precision: 0.9902 - val_loss: 0.0411 - val_binary_accuracy: 0.9813 - val_recall: 0.9688 - val_precision: 1.0000\n",
      "Epoch 59/100\n",
      "10/10 [==============================] - 0s 2ms/step - loss: 0.0168 - binary_accuracy: 0.9937 - recall: 1.0000 - precision: 0.9902 - val_loss: 0.0403 - val_binary_accuracy: 0.9813 - val_recall: 0.9688 - val_precision: 1.0000\n",
      "Epoch 60/100\n",
      "10/10 [==============================] - 0s 2ms/step - loss: 0.0162 - binary_accuracy: 0.9969 - recall: 1.0000 - precision: 0.9951 - val_loss: 0.0400 - val_binary_accuracy: 0.9813 - val_recall: 0.9688 - val_precision: 1.0000\n",
      "Epoch 61/100\n",
      "10/10 [==============================] - 0s 2ms/step - loss: 0.0159 - binary_accuracy: 0.9937 - recall: 1.0000 - precision: 0.9902 - val_loss: 0.0395 - val_binary_accuracy: 0.9813 - val_recall: 0.9688 - val_precision: 1.0000\n",
      "Epoch 62/100\n",
      "10/10 [==============================] - 0s 2ms/step - loss: 0.0153 - binary_accuracy: 0.9937 - recall: 1.0000 - precision: 0.9902 - val_loss: 0.0401 - val_binary_accuracy: 0.9813 - val_recall: 0.9688 - val_precision: 1.0000\n",
      "Epoch 63/100\n",
      "10/10 [==============================] - 0s 2ms/step - loss: 0.0149 - binary_accuracy: 0.9969 - recall: 1.0000 - precision: 0.9951 - val_loss: 0.0405 - val_binary_accuracy: 0.9813 - val_recall: 0.9688 - val_precision: 1.0000\n",
      "Epoch 64/100\n",
      "10/10 [==============================] - 0s 2ms/step - loss: 0.0144 - binary_accuracy: 0.9969 - recall: 1.0000 - precision: 0.9951 - val_loss: 0.0392 - val_binary_accuracy: 0.9813 - val_recall: 0.9688 - val_precision: 1.0000\n",
      "Epoch 65/100\n",
      "10/10 [==============================] - 0s 3ms/step - loss: 0.0141 - binary_accuracy: 0.9969 - recall: 1.0000 - precision: 0.9951 - val_loss: 0.0394 - val_binary_accuracy: 0.9813 - val_recall: 0.9688 - val_precision: 1.0000\n",
      "Epoch 66/100\n",
      "10/10 [==============================] - 0s 3ms/step - loss: 0.0136 - binary_accuracy: 0.9969 - recall: 1.0000 - precision: 0.9951 - val_loss: 0.0387 - val_binary_accuracy: 0.9813 - val_recall: 0.9688 - val_precision: 1.0000\n",
      "Epoch 67/100\n",
      "10/10 [==============================] - 0s 2ms/step - loss: 0.0133 - binary_accuracy: 1.0000 - recall: 1.0000 - precision: 1.0000 - val_loss: 0.0384 - val_binary_accuracy: 0.9813 - val_recall: 0.9688 - val_precision: 1.0000\n",
      "Epoch 68/100\n",
      "10/10 [==============================] - 0s 2ms/step - loss: 0.0130 - binary_accuracy: 1.0000 - recall: 1.0000 - precision: 1.0000 - val_loss: 0.0377 - val_binary_accuracy: 0.9813 - val_recall: 0.9688 - val_precision: 1.0000\n",
      "Epoch 69/100\n",
      "10/10 [==============================] - 0s 2ms/step - loss: 0.0127 - binary_accuracy: 1.0000 - recall: 1.0000 - precision: 1.0000 - val_loss: 0.0384 - val_binary_accuracy: 0.9813 - val_recall: 0.9688 - val_precision: 1.0000\n",
      "Epoch 70/100\n",
      "10/10 [==============================] - 0s 2ms/step - loss: 0.0121 - binary_accuracy: 1.0000 - recall: 1.0000 - precision: 1.0000 - val_loss: 0.0384 - val_binary_accuracy: 0.9813 - val_recall: 0.9688 - val_precision: 1.0000\n",
      "Epoch 71/100\n",
      "10/10 [==============================] - 0s 2ms/step - loss: 0.0117 - binary_accuracy: 1.0000 - recall: 1.0000 - precision: 1.0000 - val_loss: 0.0383 - val_binary_accuracy: 0.9813 - val_recall: 0.9688 - val_precision: 1.0000\n",
      "Epoch 72/100\n",
      "10/10 [==============================] - 0s 2ms/step - loss: 0.0115 - binary_accuracy: 1.0000 - recall: 1.0000 - precision: 1.0000 - val_loss: 0.0381 - val_binary_accuracy: 0.9813 - val_recall: 0.9688 - val_precision: 1.0000\n",
      "Epoch 73/100\n",
      "10/10 [==============================] - 0s 2ms/step - loss: 0.0111 - binary_accuracy: 1.0000 - recall: 1.0000 - precision: 1.0000 - val_loss: 0.0374 - val_binary_accuracy: 0.9813 - val_recall: 0.9688 - val_precision: 1.0000\n",
      "Epoch 74/100\n",
      "10/10 [==============================] - 0s 2ms/step - loss: 0.0108 - binary_accuracy: 1.0000 - recall: 1.0000 - precision: 1.0000 - val_loss: 0.0377 - val_binary_accuracy: 0.9813 - val_recall: 0.9688 - val_precision: 1.0000\n",
      "Epoch 75/100\n",
      "10/10 [==============================] - 0s 2ms/step - loss: 0.0105 - binary_accuracy: 1.0000 - recall: 1.0000 - precision: 1.0000 - val_loss: 0.0377 - val_binary_accuracy: 0.9813 - val_recall: 0.9688 - val_precision: 1.0000\n",
      "Epoch 76/100\n",
      "10/10 [==============================] - 0s 3ms/step - loss: 0.0102 - binary_accuracy: 1.0000 - recall: 1.0000 - precision: 1.0000 - val_loss: 0.0371 - val_binary_accuracy: 0.9813 - val_recall: 0.9688 - val_precision: 1.0000\n",
      "Epoch 77/100\n",
      "10/10 [==============================] - 0s 3ms/step - loss: 0.0100 - binary_accuracy: 1.0000 - recall: 1.0000 - precision: 1.0000 - val_loss: 0.0370 - val_binary_accuracy: 0.9813 - val_recall: 0.9688 - val_precision: 1.0000\n",
      "Epoch 78/100\n",
      "10/10 [==============================] - 0s 3ms/step - loss: 0.0097 - binary_accuracy: 1.0000 - recall: 1.0000 - precision: 1.0000 - val_loss: 0.0370 - val_binary_accuracy: 0.9813 - val_recall: 0.9688 - val_precision: 1.0000\n",
      "Epoch 79/100\n",
      "10/10 [==============================] - 0s 3ms/step - loss: 0.0094 - binary_accuracy: 1.0000 - recall: 1.0000 - precision: 1.0000 - val_loss: 0.0369 - val_binary_accuracy: 0.9813 - val_recall: 0.9688 - val_precision: 1.0000\n",
      "Epoch 80/100\n",
      "10/10 [==============================] - 0s 2ms/step - loss: 0.0092 - binary_accuracy: 1.0000 - recall: 1.0000 - precision: 1.0000 - val_loss: 0.0366 - val_binary_accuracy: 0.9907 - val_recall: 0.9844 - val_precision: 1.0000\n",
      "Epoch 81/100\n",
      "10/10 [==============================] - 0s 3ms/step - loss: 0.0088 - binary_accuracy: 1.0000 - recall: 1.0000 - precision: 1.0000 - val_loss: 0.0362 - val_binary_accuracy: 0.9907 - val_recall: 0.9844 - val_precision: 1.0000\n",
      "Epoch 82/100\n",
      "10/10 [==============================] - 0s 3ms/step - loss: 0.0087 - binary_accuracy: 1.0000 - recall: 1.0000 - precision: 1.0000 - val_loss: 0.0374 - val_binary_accuracy: 0.9813 - val_recall: 0.9688 - val_precision: 1.0000\n",
      "Epoch 83/100\n",
      "10/10 [==============================] - 0s 2ms/step - loss: 0.0086 - binary_accuracy: 1.0000 - recall: 1.0000 - precision: 1.0000 - val_loss: 0.0365 - val_binary_accuracy: 0.9907 - val_recall: 0.9844 - val_precision: 1.0000\n",
      "Epoch 84/100\n",
      "10/10 [==============================] - 0s 2ms/step - loss: 0.0081 - binary_accuracy: 1.0000 - recall: 1.0000 - precision: 1.0000 - val_loss: 0.0367 - val_binary_accuracy: 0.9907 - val_recall: 0.9844 - val_precision: 1.0000\n",
      "Epoch 85/100\n",
      "10/10 [==============================] - 0s 2ms/step - loss: 0.0079 - binary_accuracy: 1.0000 - recall: 1.0000 - precision: 1.0000 - val_loss: 0.0365 - val_binary_accuracy: 0.9907 - val_recall: 0.9844 - val_precision: 1.0000\n",
      "Epoch 86/100\n",
      "10/10 [==============================] - 0s 2ms/step - loss: 0.0077 - binary_accuracy: 1.0000 - recall: 1.0000 - precision: 1.0000 - val_loss: 0.0370 - val_binary_accuracy: 0.9907 - val_recall: 0.9844 - val_precision: 1.0000\n",
      "Epoch 87/100\n",
      "10/10 [==============================] - 0s 2ms/step - loss: 0.0075 - binary_accuracy: 1.0000 - recall: 1.0000 - precision: 1.0000 - val_loss: 0.0364 - val_binary_accuracy: 0.9907 - val_recall: 0.9844 - val_precision: 1.0000\n",
      "Epoch 88/100\n",
      "10/10 [==============================] - 0s 2ms/step - loss: 0.0072 - binary_accuracy: 1.0000 - recall: 1.0000 - precision: 1.0000 - val_loss: 0.0366 - val_binary_accuracy: 0.9907 - val_recall: 0.9844 - val_precision: 1.0000\n",
      "Epoch 89/100\n",
      "10/10 [==============================] - 0s 3ms/step - loss: 0.0071 - binary_accuracy: 1.0000 - recall: 1.0000 - precision: 1.0000 - val_loss: 0.0366 - val_binary_accuracy: 0.9907 - val_recall: 0.9844 - val_precision: 1.0000\n",
      "Epoch 90/100\n",
      "10/10 [==============================] - 0s 2ms/step - loss: 0.0068 - binary_accuracy: 1.0000 - recall: 1.0000 - precision: 1.0000 - val_loss: 0.0365 - val_binary_accuracy: 0.9907 - val_recall: 0.9844 - val_precision: 1.0000\n",
      "Epoch 91/100\n",
      "10/10 [==============================] - 0s 2ms/step - loss: 0.0068 - binary_accuracy: 1.0000 - recall: 1.0000 - precision: 1.0000 - val_loss: 0.0364 - val_binary_accuracy: 0.9907 - val_recall: 0.9844 - val_precision: 1.0000\n"
     ]
    },
    {
     "data": {
      "image/png": "[encoded data removed]",
      "text/plain": [
       "<Figure size 500x500 with 1 Axes>"
      ]
     },
     "metadata": {},
     "output_type": "display_data"
    },
    {
     "name": "stdout",
     "output_type": "stream",
     "text": [
      "Best epoch: 80\n",
      "5/5 [==============================] - 0s 1ms/step - loss: 0.1609 - binary_accuracy: 0.9720 - recall: 0.9778 - precision: 0.9778\n"
     ]
    }
   ],
   "source": [
    "# Resets model\n",
    "model = build_model(input_shape=30)\n",
    "model.compile(\n",
    "    loss=losses.BinaryCrossentropy(),\n",
    "    optimizer=optimizers.Adam(learning_rate=0.001), \n",
    "    metrics=['BinaryAccuracy', 'Recall', 'Precision'])\n",
    "\n",
    "# Callbacks\n",
    "train_callbacks = callbacks.EarlyStopping(monitor='val_loss', patience=10, restore_best_weights=True)\n",
    "train_params.update(callbacks=train_callbacks)\n",
    "del train_callbacks\n",
    "\n",
    "# Training with validation\n",
    "training = model.fit(\n",
    "    X_train, y_train, \n",
    "    validation_split=0.25,\n",
    "    **train_params)\n",
    "\n",
    "# Displays history\n",
    "display_history(training.history, validation=True)\n",
    "print(f\"Best epoch: {np.argmin(training.history['val_loss'])}\")\n",
    "\n",
    "# Generalisation performance\n",
    "earlystop_stats = model.evaluate(X_test, y_test)"
   ]
  },
  {
   "cell_type": "markdown",
   "metadata": {},
   "source": [
    "8. Modify the model structure in (3) using dropout regularisation for each hidden layer with a rate of 10%. Re-estimate the model with early stopping. Does the model generalise better than the one in (7)?"
   ]
  },
  {
   "cell_type": "code",
   "execution_count": 9,
   "metadata": {},
   "outputs": [
    {
     "name": "stdout",
     "output_type": "stream",
     "text": [
      "5/5 [==============================] - 0s 846us/step - loss: 0.1609 - binary_accuracy: 0.9720 - recall: 0.9778 - precision: 0.9778\n"
     ]
    }
   ],
   "source": [
    "# Model structure\n",
    "def build_model(input_shape:int):\n",
    "  initializer = initializers.HeNormal(seed=0)\n",
    "  inputs  = layers.Input(shape=(input_shape,), name='input_layer')\n",
    "  hidden  = layers.Dense(units=32, activation='relu', kernel_initializer=initializer, name='hidden_layer1')(inputs)\n",
    "  hidden  = layers.Dropout(rate=0.1, name='droupout_layer1')(hidden)\n",
    "  hidden  = layers.Dense(units=32, activation='relu', kernel_initializer=initializer, name='hidden_layer2')(hidden)\n",
    "  hidden  = layers.Dropout(rate=0.1, name='droupout_layer2')(hidden)\n",
    "  outputs = layers.Dense(units=1,  activation='sigmoid', name='output_layer')(hidden)\n",
    "  model   = models.Model(inputs=inputs, outputs=outputs, name='dropout_model')\n",
    "  return model\n",
    "\n",
    "# Re-run code in question (7)...\n",
    "\n",
    "# Generalisation performance\n",
    "dropout_stats = model.evaluate(X_test, y_test)"
   ]
  },
  {
   "cell_type": "markdown",
   "metadata": {},
   "source": [
    "9. Modify the model structure in (3) using a batch-normalisation layer before the activation of each hidden layer. Re-estimate the model with early stopping. Does the model generalise better than the one in (7)?"
   ]
  },
  {
   "cell_type": "code",
   "execution_count": 10,
   "metadata": {},
   "outputs": [
    {
     "name": "stdout",
     "output_type": "stream",
     "text": [
      "5/5 [==============================] - 0s 909us/step - loss: 0.1609 - binary_accuracy: 0.9720 - recall: 0.9778 - precision: 0.9778\n"
     ]
    }
   ],
   "source": [
    "# Model structure\n",
    "def build_model(input_shape:int):\n",
    "  initializer = initializers.HeNormal()\n",
    "  inputs  = layers.Input(shape=(input_shape,), name='input_layer')\n",
    "  hidden  = layers.Dense(units=32, activation='linear', kernel_initializer=initializer, name='hidden_layer1')(inputs)\n",
    "  hidden  = layers.BatchNormalization(name='batchnorm_layer1')(hidden)\n",
    "  hidden  = layers.Activation('relu', name='activation_layer1')(hidden) \n",
    "  hidden  = layers.Dense(units=32, activation='linear', kernel_initializer=initializer, name='hidden_layer2')(hidden)\n",
    "  hidden  = layers.BatchNormalization(name='batchnorm_layer2')(hidden)\n",
    "  hidden  = layers.Activation('relu', name='activation_layer2')(hidden) \n",
    "  outputs = layers.Dense(units=1,  activation='sigmoid', name='output_layer')(hidden)\n",
    "  model   = models.Model(inputs=inputs, outputs=outputs, name='batchnorm_model')\n",
    "  return model\n",
    "\n",
    "# Re-run code in question (7)...\n",
    "\n",
    "# Generalisation performance\n",
    "batchnorm_stats = model.evaluate(X_test, y_test)"
   ]
  }
 ],
 "metadata": {
  "kernelspec": {
   "display_name": "Python 3 (ipykernel)",
   "language": "python",
   "name": "python3"
  },
  "language_info": {
   "codemirror_mode": {
    "name": "ipython",
    "version": 3
   },
   "file_extension": ".py",
   "mimetype": "text/x-python",
   "name": "python",
   "nbconvert_exporter": "python",
   "pygments_lexer": "ipython3",
   "version": "3.11.6"
  },
  "vscode": {
   "interpreter": {
    "hash": "7302c24fb2197c6d308d8a799b8c1926c619b1d29b7e68a60c06bc7e0374fe3f"
   }
  }
 },
 "nbformat": 4,
 "nbformat_minor": 2
}
