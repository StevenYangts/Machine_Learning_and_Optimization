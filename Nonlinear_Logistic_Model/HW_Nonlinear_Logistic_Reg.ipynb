{
 "cells": [
  {
   "cell_type": "markdown",
   "metadata": {},
   "source": [
    "# Homework 1\n",
    "\n",
    "Consider the `wine` dataset, the response measures wine quality and takes discrete values between 3 and 8. The input contains various measurable attributes for each wine (e.g. sulphates, acidity). The goal of this exercise is to predict wine quality category based on those attributes. In addition to `numpy` and `pandas`, we will use functions in the `sklearn` and `pygam` modules."
   ]
  },
  {
   "cell_type": "code",
   "execution_count": 1,
   "metadata": {},
   "outputs": [],
   "source": [
    "# Modules\n",
    "import numpy as np\n",
    "import pandas as pd\n",
    "import pygam\n",
    "\n",
    "from matplotlib import pyplot as plt\n",
    "from sklearn import datasets, linear_model, metrics, model_selection, pipeline, preprocessing, utils"
   ]
  },
  {
   "cell_type": "markdown",
   "metadata": {},
   "source": [
    "### Q1"
   ]
  },
  {
   "cell_type": "markdown",
   "metadata": {},
   "source": [
    "1. Load the Wine dataset and examine the size of the dataset, the variable types, and produce some descriptive statistics."
   ]
  },
  {
   "cell_type": "code",
   "execution_count": 2,
   "metadata": {},
   "outputs": [],
   "source": [
    "# Loads dataset\n",
    "X = pd.read_csv('wine_data.csv', index_col=0)\n",
    "y = pd.read_csv('wine_target.csv', index_col=0)"
   ]
  },
  {
   "cell_type": "code",
   "execution_count": 3,
   "metadata": {},
   "outputs": [
    {
     "data": {
      "text/html": [
       "<div>\n",
       "<style scoped>\n",
       "    .dataframe tbody tr th:only-of-type {\n",
       "        vertical-align: middle;\n",
       "    }\n",
       "\n",
       "    .dataframe tbody tr th {\n",
       "        vertical-align: top;\n",
       "    }\n",
       "\n",
       "    .dataframe thead th {\n",
       "        text-align: right;\n",
       "    }\n",
       "</style>\n",
       "<table border=\"1\" class=\"dataframe\">\n",
       "  <thead>\n",
       "    <tr style=\"text-align: right;\">\n",
       "      <th></th>\n",
       "      <th>fixed acidity</th>\n",
       "      <th>volatile acidity</th>\n",
       "      <th>citric acid</th>\n",
       "      <th>residual sugar</th>\n",
       "      <th>chlorides</th>\n",
       "      <th>free sulfur dioxide</th>\n",
       "      <th>total sulfur dioxide</th>\n",
       "      <th>density</th>\n",
       "      <th>pH</th>\n",
       "      <th>sulphates</th>\n",
       "      <th>alcohol</th>\n",
       "    </tr>\n",
       "  </thead>\n",
       "  <tbody>\n",
       "    <tr>\n",
       "      <th>count</th>\n",
       "      <td>1599.000000</td>\n",
       "      <td>1599.000000</td>\n",
       "      <td>1599.000000</td>\n",
       "      <td>1599.000000</td>\n",
       "      <td>1599.000000</td>\n",
       "      <td>1599.000000</td>\n",
       "      <td>1599.000000</td>\n",
       "      <td>1599.000000</td>\n",
       "      <td>1599.000000</td>\n",
       "      <td>1599.000000</td>\n",
       "      <td>1599.000000</td>\n",
       "    </tr>\n",
       "    <tr>\n",
       "      <th>mean</th>\n",
       "      <td>8.319637</td>\n",
       "      <td>0.527821</td>\n",
       "      <td>0.270976</td>\n",
       "      <td>2.538806</td>\n",
       "      <td>0.087467</td>\n",
       "      <td>15.874922</td>\n",
       "      <td>46.467792</td>\n",
       "      <td>0.996747</td>\n",
       "      <td>3.311113</td>\n",
       "      <td>0.658149</td>\n",
       "      <td>10.422983</td>\n",
       "    </tr>\n",
       "    <tr>\n",
       "      <th>std</th>\n",
       "      <td>1.741096</td>\n",
       "      <td>0.179060</td>\n",
       "      <td>0.194801</td>\n",
       "      <td>1.409928</td>\n",
       "      <td>0.047065</td>\n",
       "      <td>10.460157</td>\n",
       "      <td>32.895324</td>\n",
       "      <td>0.001887</td>\n",
       "      <td>0.154386</td>\n",
       "      <td>0.169507</td>\n",
       "      <td>1.065668</td>\n",
       "    </tr>\n",
       "    <tr>\n",
       "      <th>min</th>\n",
       "      <td>4.600000</td>\n",
       "      <td>0.120000</td>\n",
       "      <td>0.000000</td>\n",
       "      <td>0.900000</td>\n",
       "      <td>0.012000</td>\n",
       "      <td>1.000000</td>\n",
       "      <td>6.000000</td>\n",
       "      <td>0.990070</td>\n",
       "      <td>2.740000</td>\n",
       "      <td>0.330000</td>\n",
       "      <td>8.400000</td>\n",
       "    </tr>\n",
       "    <tr>\n",
       "      <th>25%</th>\n",
       "      <td>7.100000</td>\n",
       "      <td>0.390000</td>\n",
       "      <td>0.090000</td>\n",
       "      <td>1.900000</td>\n",
       "      <td>0.070000</td>\n",
       "      <td>7.000000</td>\n",
       "      <td>22.000000</td>\n",
       "      <td>0.995600</td>\n",
       "      <td>3.210000</td>\n",
       "      <td>0.550000</td>\n",
       "      <td>9.500000</td>\n",
       "    </tr>\n",
       "    <tr>\n",
       "      <th>50%</th>\n",
       "      <td>7.900000</td>\n",
       "      <td>0.520000</td>\n",
       "      <td>0.260000</td>\n",
       "      <td>2.200000</td>\n",
       "      <td>0.079000</td>\n",
       "      <td>14.000000</td>\n",
       "      <td>38.000000</td>\n",
       "      <td>0.996750</td>\n",
       "      <td>3.310000</td>\n",
       "      <td>0.620000</td>\n",
       "      <td>10.200000</td>\n",
       "    </tr>\n",
       "    <tr>\n",
       "      <th>75%</th>\n",
       "      <td>9.200000</td>\n",
       "      <td>0.640000</td>\n",
       "      <td>0.420000</td>\n",
       "      <td>2.600000</td>\n",
       "      <td>0.090000</td>\n",
       "      <td>21.000000</td>\n",
       "      <td>62.000000</td>\n",
       "      <td>0.997835</td>\n",
       "      <td>3.400000</td>\n",
       "      <td>0.730000</td>\n",
       "      <td>11.100000</td>\n",
       "    </tr>\n",
       "    <tr>\n",
       "      <th>max</th>\n",
       "      <td>15.900000</td>\n",
       "      <td>1.580000</td>\n",
       "      <td>1.000000</td>\n",
       "      <td>15.500000</td>\n",
       "      <td>0.611000</td>\n",
       "      <td>72.000000</td>\n",
       "      <td>289.000000</td>\n",
       "      <td>1.003690</td>\n",
       "      <td>4.010000</td>\n",
       "      <td>2.000000</td>\n",
       "      <td>14.900000</td>\n",
       "    </tr>\n",
       "  </tbody>\n",
       "</table>\n",
       "</div>"
      ],
      "text/plain": [
       "       fixed acidity  volatile acidity  citric acid  residual sugar  \\\n",
       "count    1599.000000       1599.000000  1599.000000     1599.000000   \n",
       "mean        8.319637          0.527821     0.270976        2.538806   \n",
       "std         1.741096          0.179060     0.194801        1.409928   \n",
       "min         4.600000          0.120000     0.000000        0.900000   \n",
       "25%         7.100000          0.390000     0.090000        1.900000   \n",
       "50%         7.900000          0.520000     0.260000        2.200000   \n",
       "75%         9.200000          0.640000     0.420000        2.600000   \n",
       "max        15.900000          1.580000     1.000000       15.500000   \n",
       "\n",
       "         chlorides  free sulfur dioxide  total sulfur dioxide      density  \\\n",
       "count  1599.000000          1599.000000           1599.000000  1599.000000   \n",
       "mean      0.087467            15.874922             46.467792     0.996747   \n",
       "std       0.047065            10.460157             32.895324     0.001887   \n",
       "min       0.012000             1.000000              6.000000     0.990070   \n",
       "25%       0.070000             7.000000             22.000000     0.995600   \n",
       "50%       0.079000            14.000000             38.000000     0.996750   \n",
       "75%       0.090000            21.000000             62.000000     0.997835   \n",
       "max       0.611000            72.000000            289.000000     1.003690   \n",
       "\n",
       "                pH    sulphates      alcohol  \n",
       "count  1599.000000  1599.000000  1599.000000  \n",
       "mean      3.311113     0.658149    10.422983  \n",
       "std       0.154386     0.169507     1.065668  \n",
       "min       2.740000     0.330000     8.400000  \n",
       "25%       3.210000     0.550000     9.500000  \n",
       "50%       3.310000     0.620000    10.200000  \n",
       "75%       3.400000     0.730000    11.100000  \n",
       "max       4.010000     2.000000    14.900000  "
      ]
     },
     "execution_count": 3,
     "metadata": {},
     "output_type": "execute_result"
    }
   ],
   "source": [
    "X.describe()\n",
    "# Quick comment:\n",
    "# All the variables are numeric variables.\n",
    "# There are 1599 observations in the wine data."
   ]
  },
  {
   "cell_type": "markdown",
   "metadata": {},
   "source": [
    "### Q2"
   ]
  },
  {
   "cell_type": "markdown",
   "metadata": {},
   "source": [
    "2. For simplicity, we will recode the response as 0 for wines that have a score below or equal to 5 and 1 otherwise. Plot the distribution of the response."
   ]
  },
  {
   "cell_type": "code",
   "execution_count": 4,
   "metadata": {},
   "outputs": [],
   "source": [
    "# Apply boolean mask to generate a new column split target responses into 0,1\n",
    "y.loc[y['quality']<=5,'quality_dummy']=0\n",
    "y.loc[y['quality']>5,'quality_dummy']=1\n",
    "# del y['quality']"
   ]
  },
  {
   "cell_type": "code",
   "execution_count": 5,
   "metadata": {},
   "outputs": [
    {
     "data": {
      "image/png": "[encoded data removed]",
      "text/plain": [
       "<Figure size 432x288 with 1 Axes>"
      ]
     },
     "metadata": {
      "needs_background": "light"
     },
     "output_type": "display_data"
    }
   ],
   "source": [
    "# Plot the distribution of the original response\n",
    "plt.hist(y['quality']);"
   ]
  },
  {
   "cell_type": "code",
   "execution_count": 6,
   "metadata": {},
   "outputs": [
    {
     "data": {
      "image/png": "[encoded data removed]",
      "text/plain": [
       "<Figure size 432x288 with 1 Axes>"
      ]
     },
     "metadata": {
      "needs_background": "light"
     },
     "output_type": "display_data"
    }
   ],
   "source": [
    "# Plot the distribution of the transformed response\n",
    "plt.hist(y['quality_dummy']);"
   ]
  },
  {
   "cell_type": "markdown",
   "metadata": {},
   "source": [
    "### Q3"
   ]
  },
  {
   "cell_type": "markdown",
   "metadata": {},
   "source": [
    "3. Split the data into a training (75%) and a test (25%) sample, while mainting the class proportions in the training and the test samples (see `sklearn.model_selection`). Remember to make the sampling reproductible."
   ]
  },
  {
   "cell_type": "code",
   "execution_count": 7,
   "metadata": {},
   "outputs": [],
   "source": [
    "# Setting a fixed seed for the random_state param to make samping procedure reproductible\n",
    "del y['quality']\n",
    "X_train, X_test, y_train, y_test = model_selection.train_test_split(X, y, train_size=.75, test_size=.25,\n",
    "                                                                    shuffle=True, random_state=1)"
   ]
  },
  {
   "cell_type": "code",
   "execution_count": 8,
   "metadata": {},
   "outputs": [
    {
     "data": {
      "text/html": [
       "<div>\n",
       "<style scoped>\n",
       "    .dataframe tbody tr th:only-of-type {\n",
       "        vertical-align: middle;\n",
       "    }\n",
       "\n",
       "    .dataframe tbody tr th {\n",
       "        vertical-align: top;\n",
       "    }\n",
       "\n",
       "    .dataframe thead th {\n",
       "        text-align: right;\n",
       "    }\n",
       "</style>\n",
       "<table border=\"1\" class=\"dataframe\">\n",
       "  <thead>\n",
       "    <tr style=\"text-align: right;\">\n",
       "      <th></th>\n",
       "      <th>fixed acidity</th>\n",
       "      <th>volatile acidity</th>\n",
       "      <th>citric acid</th>\n",
       "      <th>residual sugar</th>\n",
       "      <th>chlorides</th>\n",
       "      <th>free sulfur dioxide</th>\n",
       "      <th>total sulfur dioxide</th>\n",
       "      <th>density</th>\n",
       "      <th>pH</th>\n",
       "      <th>sulphates</th>\n",
       "      <th>alcohol</th>\n",
       "    </tr>\n",
       "  </thead>\n",
       "  <tbody>\n",
       "    <tr>\n",
       "      <th>1144</th>\n",
       "      <td>7.3</td>\n",
       "      <td>0.320</td>\n",
       "      <td>0.23</td>\n",
       "      <td>2.3</td>\n",
       "      <td>0.066</td>\n",
       "      <td>35.0</td>\n",
       "      <td>70.0</td>\n",
       "      <td>0.99588</td>\n",
       "      <td>3.43</td>\n",
       "      <td>0.62</td>\n",
       "      <td>10.1</td>\n",
       "    </tr>\n",
       "    <tr>\n",
       "      <th>73</th>\n",
       "      <td>8.3</td>\n",
       "      <td>0.675</td>\n",
       "      <td>0.26</td>\n",
       "      <td>2.1</td>\n",
       "      <td>0.084</td>\n",
       "      <td>11.0</td>\n",
       "      <td>43.0</td>\n",
       "      <td>0.99760</td>\n",
       "      <td>3.31</td>\n",
       "      <td>0.53</td>\n",
       "      <td>9.2</td>\n",
       "    </tr>\n",
       "    <tr>\n",
       "      <th>446</th>\n",
       "      <td>12.5</td>\n",
       "      <td>0.380</td>\n",
       "      <td>0.60</td>\n",
       "      <td>2.6</td>\n",
       "      <td>0.081</td>\n",
       "      <td>31.0</td>\n",
       "      <td>72.0</td>\n",
       "      <td>0.99960</td>\n",
       "      <td>3.10</td>\n",
       "      <td>0.73</td>\n",
       "      <td>10.5</td>\n",
       "    </tr>\n",
       "    <tr>\n",
       "      <th>399</th>\n",
       "      <td>8.7</td>\n",
       "      <td>0.765</td>\n",
       "      <td>0.22</td>\n",
       "      <td>2.3</td>\n",
       "      <td>0.064</td>\n",
       "      <td>9.0</td>\n",
       "      <td>42.0</td>\n",
       "      <td>0.99630</td>\n",
       "      <td>3.10</td>\n",
       "      <td>0.55</td>\n",
       "      <td>9.4</td>\n",
       "    </tr>\n",
       "    <tr>\n",
       "      <th>647</th>\n",
       "      <td>8.3</td>\n",
       "      <td>0.845</td>\n",
       "      <td>0.01</td>\n",
       "      <td>2.2</td>\n",
       "      <td>0.070</td>\n",
       "      <td>5.0</td>\n",
       "      <td>14.0</td>\n",
       "      <td>0.99670</td>\n",
       "      <td>3.32</td>\n",
       "      <td>0.58</td>\n",
       "      <td>11.0</td>\n",
       "    </tr>\n",
       "  </tbody>\n",
       "</table>\n",
       "</div>"
      ],
      "text/plain": [
       "      fixed acidity  volatile acidity  citric acid  residual sugar  chlorides  \\\n",
       "1144            7.3             0.320         0.23             2.3      0.066   \n",
       "73              8.3             0.675         0.26             2.1      0.084   \n",
       "446            12.5             0.380         0.60             2.6      0.081   \n",
       "399             8.7             0.765         0.22             2.3      0.064   \n",
       "647             8.3             0.845         0.01             2.2      0.070   \n",
       "\n",
       "      free sulfur dioxide  total sulfur dioxide  density    pH  sulphates  \\\n",
       "1144                 35.0                  70.0  0.99588  3.43       0.62   \n",
       "73                   11.0                  43.0  0.99760  3.31       0.53   \n",
       "446                  31.0                  72.0  0.99960  3.10       0.73   \n",
       "399                   9.0                  42.0  0.99630  3.10       0.55   \n",
       "647                   5.0                  14.0  0.99670  3.32       0.58   \n",
       "\n",
       "      alcohol  \n",
       "1144     10.1  \n",
       "73        9.2  \n",
       "446      10.5  \n",
       "399       9.4  \n",
       "647      11.0  "
      ]
     },
     "execution_count": 8,
     "metadata": {},
     "output_type": "execute_result"
    }
   ],
   "source": [
    "X_train.head()"
   ]
  },
  {
   "cell_type": "code",
   "execution_count": 9,
   "metadata": {},
   "outputs": [
    {
     "data": {
      "text/html": [
       "<div>\n",
       "<style scoped>\n",
       "    .dataframe tbody tr th:only-of-type {\n",
       "        vertical-align: middle;\n",
       "    }\n",
       "\n",
       "    .dataframe tbody tr th {\n",
       "        vertical-align: top;\n",
       "    }\n",
       "\n",
       "    .dataframe thead th {\n",
       "        text-align: right;\n",
       "    }\n",
       "</style>\n",
       "<table border=\"1\" class=\"dataframe\">\n",
       "  <thead>\n",
       "    <tr style=\"text-align: right;\">\n",
       "      <th></th>\n",
       "      <th>fixed acidity</th>\n",
       "      <th>volatile acidity</th>\n",
       "      <th>citric acid</th>\n",
       "      <th>residual sugar</th>\n",
       "      <th>chlorides</th>\n",
       "      <th>free sulfur dioxide</th>\n",
       "      <th>total sulfur dioxide</th>\n",
       "      <th>density</th>\n",
       "      <th>pH</th>\n",
       "      <th>sulphates</th>\n",
       "      <th>alcohol</th>\n",
       "    </tr>\n",
       "  </thead>\n",
       "  <tbody>\n",
       "    <tr>\n",
       "      <th>75</th>\n",
       "      <td>8.8</td>\n",
       "      <td>0.41</td>\n",
       "      <td>0.64</td>\n",
       "      <td>2.2</td>\n",
       "      <td>0.093</td>\n",
       "      <td>9.0</td>\n",
       "      <td>42.0</td>\n",
       "      <td>0.99860</td>\n",
       "      <td>3.54</td>\n",
       "      <td>0.66</td>\n",
       "      <td>10.5</td>\n",
       "    </tr>\n",
       "    <tr>\n",
       "      <th>1283</th>\n",
       "      <td>8.7</td>\n",
       "      <td>0.63</td>\n",
       "      <td>0.28</td>\n",
       "      <td>2.7</td>\n",
       "      <td>0.096</td>\n",
       "      <td>17.0</td>\n",
       "      <td>69.0</td>\n",
       "      <td>0.99734</td>\n",
       "      <td>3.26</td>\n",
       "      <td>0.63</td>\n",
       "      <td>10.2</td>\n",
       "    </tr>\n",
       "    <tr>\n",
       "      <th>408</th>\n",
       "      <td>10.4</td>\n",
       "      <td>0.34</td>\n",
       "      <td>0.58</td>\n",
       "      <td>3.7</td>\n",
       "      <td>0.174</td>\n",
       "      <td>6.0</td>\n",
       "      <td>16.0</td>\n",
       "      <td>0.99700</td>\n",
       "      <td>3.19</td>\n",
       "      <td>0.70</td>\n",
       "      <td>11.3</td>\n",
       "    </tr>\n",
       "    <tr>\n",
       "      <th>1281</th>\n",
       "      <td>7.1</td>\n",
       "      <td>0.46</td>\n",
       "      <td>0.20</td>\n",
       "      <td>1.9</td>\n",
       "      <td>0.077</td>\n",
       "      <td>28.0</td>\n",
       "      <td>54.0</td>\n",
       "      <td>0.99560</td>\n",
       "      <td>3.37</td>\n",
       "      <td>0.64</td>\n",
       "      <td>10.4</td>\n",
       "    </tr>\n",
       "    <tr>\n",
       "      <th>1118</th>\n",
       "      <td>7.1</td>\n",
       "      <td>0.39</td>\n",
       "      <td>0.12</td>\n",
       "      <td>2.1</td>\n",
       "      <td>0.065</td>\n",
       "      <td>14.0</td>\n",
       "      <td>24.0</td>\n",
       "      <td>0.99252</td>\n",
       "      <td>3.30</td>\n",
       "      <td>0.53</td>\n",
       "      <td>13.3</td>\n",
       "    </tr>\n",
       "  </tbody>\n",
       "</table>\n",
       "</div>"
      ],
      "text/plain": [
       "      fixed acidity  volatile acidity  citric acid  residual sugar  chlorides  \\\n",
       "75              8.8              0.41         0.64             2.2      0.093   \n",
       "1283            8.7              0.63         0.28             2.7      0.096   \n",
       "408            10.4              0.34         0.58             3.7      0.174   \n",
       "1281            7.1              0.46         0.20             1.9      0.077   \n",
       "1118            7.1              0.39         0.12             2.1      0.065   \n",
       "\n",
       "      free sulfur dioxide  total sulfur dioxide  density    pH  sulphates  \\\n",
       "75                    9.0                  42.0  0.99860  3.54       0.66   \n",
       "1283                 17.0                  69.0  0.99734  3.26       0.63   \n",
       "408                   6.0                  16.0  0.99700  3.19       0.70   \n",
       "1281                 28.0                  54.0  0.99560  3.37       0.64   \n",
       "1118                 14.0                  24.0  0.99252  3.30       0.53   \n",
       "\n",
       "      alcohol  \n",
       "75       10.5  \n",
       "1283     10.2  \n",
       "408      11.3  \n",
       "1281     10.4  \n",
       "1118     13.3  "
      ]
     },
     "execution_count": 9,
     "metadata": {},
     "output_type": "execute_result"
    }
   ],
   "source": [
    "X_test.head()"
   ]
  },
  {
   "cell_type": "code",
   "execution_count": 10,
   "metadata": {},
   "outputs": [
    {
     "data": {
      "text/html": [
       "<div>\n",
       "<style scoped>\n",
       "    .dataframe tbody tr th:only-of-type {\n",
       "        vertical-align: middle;\n",
       "    }\n",
       "\n",
       "    .dataframe tbody tr th {\n",
       "        vertical-align: top;\n",
       "    }\n",
       "\n",
       "    .dataframe thead th {\n",
       "        text-align: right;\n",
       "    }\n",
       "</style>\n",
       "<table border=\"1\" class=\"dataframe\">\n",
       "  <thead>\n",
       "    <tr style=\"text-align: right;\">\n",
       "      <th></th>\n",
       "      <th>quality_dummy</th>\n",
       "    </tr>\n",
       "  </thead>\n",
       "  <tbody>\n",
       "    <tr>\n",
       "      <th>1144</th>\n",
       "      <td>0.0</td>\n",
       "    </tr>\n",
       "    <tr>\n",
       "      <th>73</th>\n",
       "      <td>0.0</td>\n",
       "    </tr>\n",
       "    <tr>\n",
       "      <th>446</th>\n",
       "      <td>0.0</td>\n",
       "    </tr>\n",
       "    <tr>\n",
       "      <th>399</th>\n",
       "      <td>0.0</td>\n",
       "    </tr>\n",
       "    <tr>\n",
       "      <th>647</th>\n",
       "      <td>0.0</td>\n",
       "    </tr>\n",
       "  </tbody>\n",
       "</table>\n",
       "</div>"
      ],
      "text/plain": [
       "      quality_dummy\n",
       "1144            0.0\n",
       "73              0.0\n",
       "446             0.0\n",
       "399             0.0\n",
       "647             0.0"
      ]
     },
     "execution_count": 10,
     "metadata": {},
     "output_type": "execute_result"
    }
   ],
   "source": [
    "y_train.head()"
   ]
  },
  {
   "cell_type": "code",
   "execution_count": 11,
   "metadata": {},
   "outputs": [
    {
     "data": {
      "text/html": [
       "<div>\n",
       "<style scoped>\n",
       "    .dataframe tbody tr th:only-of-type {\n",
       "        vertical-align: middle;\n",
       "    }\n",
       "\n",
       "    .dataframe tbody tr th {\n",
       "        vertical-align: top;\n",
       "    }\n",
       "\n",
       "    .dataframe thead th {\n",
       "        text-align: right;\n",
       "    }\n",
       "</style>\n",
       "<table border=\"1\" class=\"dataframe\">\n",
       "  <thead>\n",
       "    <tr style=\"text-align: right;\">\n",
       "      <th></th>\n",
       "      <th>quality_dummy</th>\n",
       "    </tr>\n",
       "  </thead>\n",
       "  <tbody>\n",
       "    <tr>\n",
       "      <th>75</th>\n",
       "      <td>0.0</td>\n",
       "    </tr>\n",
       "    <tr>\n",
       "      <th>1283</th>\n",
       "      <td>1.0</td>\n",
       "    </tr>\n",
       "    <tr>\n",
       "      <th>408</th>\n",
       "      <td>1.0</td>\n",
       "    </tr>\n",
       "    <tr>\n",
       "      <th>1281</th>\n",
       "      <td>1.0</td>\n",
       "    </tr>\n",
       "    <tr>\n",
       "      <th>1118</th>\n",
       "      <td>1.0</td>\n",
       "    </tr>\n",
       "  </tbody>\n",
       "</table>\n",
       "</div>"
      ],
      "text/plain": [
       "      quality_dummy\n",
       "75              0.0\n",
       "1283            1.0\n",
       "408             1.0\n",
       "1281            1.0\n",
       "1118            1.0"
      ]
     },
     "execution_count": 11,
     "metadata": {},
     "output_type": "execute_result"
    }
   ],
   "source": [
    "y_test.head()"
   ]
  },
  {
   "cell_type": "markdown",
   "metadata": {},
   "source": [
    "### Q4"
   ]
  },
  {
   "cell_type": "markdown",
   "metadata": {},
   "source": [
    "4. Fit a logistic regression model to the training data and evaluate its performance on the test data (see `sklearn.linear_model`). Set the number of optimisation iterations `max_iter=10000` for the model to converge."
   ]
  },
  {
   "cell_type": "markdown",
   "metadata": {},
   "source": [
    "#### Model Initialization"
   ]
  },
  {
   "cell_type": "code",
   "execution_count": 12,
   "metadata": {},
   "outputs": [
    {
     "name": "stdout",
     "output_type": "stream",
     "text": [
      "[-8.53370417] [[ 0.09421995 -2.68224251 -0.76481734  0.02654355 -0.74955481  0.02414511\n",
      "  -0.01777728 -0.01467997 -0.21462295  1.83882445  0.91584318]]\n"
     ]
    }
   ],
   "source": [
    "# create an instance of logistic regression\n",
    "lgstc_reg =  linear_model.LogisticRegression(solver='newton-cg',max_iter=10000)    \n",
    "\n",
    "# fit training data on logistic regression \n",
    "lgstc_reg.fit(X_train, y_train['quality_dummy'])\n",
    "\n",
    "# print coefficients\n",
    "print(lgstc_reg.intercept_, lgstc_reg.coef_)"
   ]
  },
  {
   "cell_type": "markdown",
   "metadata": {},
   "source": [
    "#### Performance Evaluation"
   ]
  },
  {
   "cell_type": "code",
   "execution_count": 13,
   "metadata": {},
   "outputs": [
    {
     "data": {
      "text/html": [
       "<div>\n",
       "<style scoped>\n",
       "    .dataframe tbody tr th:only-of-type {\n",
       "        vertical-align: middle;\n",
       "    }\n",
       "\n",
       "    .dataframe tbody tr th {\n",
       "        vertical-align: top;\n",
       "    }\n",
       "\n",
       "    .dataframe thead th {\n",
       "        text-align: right;\n",
       "    }\n",
       "</style>\n",
       "<table border=\"1\" class=\"dataframe\">\n",
       "  <thead>\n",
       "    <tr style=\"text-align: right;\">\n",
       "      <th></th>\n",
       "      <th>Accuracy</th>\n",
       "      <th>Recall</th>\n",
       "      <th>Precision</th>\n",
       "      <th>F1_score</th>\n",
       "    </tr>\n",
       "  </thead>\n",
       "  <tbody>\n",
       "    <tr>\n",
       "      <th>Test_Evaluation_Metrics</th>\n",
       "      <td>0.7375</td>\n",
       "      <td>0.716981</td>\n",
       "      <td>0.771574</td>\n",
       "      <td>0.743276</td>\n",
       "    </tr>\n",
       "  </tbody>\n",
       "</table>\n",
       "</div>"
      ],
      "text/plain": [
       "                         Accuracy    Recall  Precision  F1_score\n",
       "Test_Evaluation_Metrics    0.7375  0.716981   0.771574  0.743276"
      ]
     },
     "execution_count": 13,
     "metadata": {},
     "output_type": "execute_result"
    }
   ],
   "source": [
    "# importing additional evaluation metrics\n",
    "from sklearn.metrics import confusion_matrix, accuracy_score, recall_score, precision_score,f1_score\n",
    "\n",
    "# In-sample prediction\n",
    "y_train_pred=lgstc_reg.predict(X_train)\n",
    "# Out-sample prediction\n",
    "y_test_pred = lgstc_reg.predict(X_test)\n",
    "\n",
    "# Store evaluation scores\n",
    "ac_s = accuracy_score(y_test, y_test_pred)\n",
    "rec_s = recall_score(y_test,y_test_pred)\n",
    "prec_s = precision_score(y_test,y_test_pred)\n",
    "f1 = f1_score(y_test,y_test_pred)\n",
    "\n",
    "# Put into dataframe for testing set \n",
    "results_Test=pd.DataFrame({\n",
    "    \"Accuracy\":ac_s,\n",
    "    \"Recall\":rec_s,\n",
    "    \"Precision\":prec_s,\n",
    "    \"F1_score\":f1\n",
    "},index=['Test_Evaluation_Metrics'])\n",
    "\n",
    "results_Test"
   ]
  },
  {
   "cell_type": "code",
   "execution_count": 14,
   "metadata": {},
   "outputs": [
    {
     "name": "stdout",
     "output_type": "stream",
     "text": [
      "AUC for logistic regression model:  0.8223604977920513\n"
     ]
    },
    {
     "data": {
      "image/png": "[encoded data removed]",
      "text/plain": [
       "<Figure size 864x576 with 1 Axes>"
      ]
     },
     "metadata": {
      "needs_background": "light"
     },
     "output_type": "display_data"
    }
   ],
   "source": [
    "#  Predicted success prob\n",
    "lr_prob = lgstc_reg.predict_proba(X_test)\n",
    "lr_prob = lr_prob[:,1]\n",
    "\n",
    "# Compute AUC score for the test data\n",
    "lr_auc=metrics.roc_auc_score(y_test,lr_prob)\n",
    "lr_fpr,lr_tpr,_=metrics.roc_curve(y_test,lr_prob)\n",
    "\n",
    "# Random Pred Model as floor\n",
    "ns_prob=[0 for _ in range(len(y_test))] # a \"dummy\" model: predict outcome 0, regardless.\n",
    "ns_auc=metrics.roc_auc_score(y_test,ns_prob) # compute AUC score for random model\n",
    "ns_fpr,ns_tpr,_=metrics.roc_curve(y_test,ns_prob) # ROC curve for random model\n",
    "\n",
    "\n",
    "print(\"AUC for logistic regression model: \",lr_auc)\n",
    "plt.figure(figsize=(12,8))\n",
    "plt.plot(lr_fpr,lr_tpr,marker='.',label='Logistic Regression')\n",
    "plt.plot(ns_fpr,ns_tpr,linestyle='--',label='Random Prediction')\n",
    "\n",
    "\n",
    "plt.xlabel('False Positive Rate',fontsize=18)\n",
    "plt.ylabel('True Positive Rate',fontsize=18)\n",
    "plt.legend(fontsize=12)\n",
    "plt.show()"
   ]
  },
  {
   "cell_type": "markdown",
   "metadata": {},
   "source": [
    "#### Comment on the performance \n",
    "\n",
    "This section only evaluates the test performance, since the issue of overfit is dicussed in Q6.\n",
    "\n",
    "Based on all 4 evaluation metrics (accuracy, recall, percision, f1) listed in the results_Test dataframe, it can be concluded that the logistic model has a decent performance. For example, an accuracy score of 0.7375 on the test data means that the model accurately predicts 73.75% of the cases in the test data. \n",
    "\n",
    "In addition, ROC was plotted and AUC was computed to gauge the performance of this model. The orange dotted line shows the model performance of a constant prediction model, while the blue line shows the logistic regression. The logisitic regression has an AUC value of 0.82 suggests the model has decent predictive power. "
   ]
  },
  {
   "cell_type": "markdown",
   "metadata": {},
   "source": [
    "### Q5"
   ]
  },
  {
   "cell_type": "markdown",
   "metadata": {},
   "source": [
    "5. Compute the bootstrapped standard errors for the parameters using 100 bootstrap of size 500 (see `sklearn.utils`). Provide an interpretation for one of the parameter estimates."
   ]
  },
  {
   "cell_type": "code",
   "execution_count": 15,
   "metadata": {},
   "outputs": [
    {
     "data": {
      "text/plain": [
       "array([0.0672, 0.3696, 0.399 , 0.0752, 0.3194, 0.0109, 0.0044, 0.0059,\n",
       "       0.3717, 0.3307, 0.1092])"
      ]
     },
     "execution_count": 15,
     "metadata": {},
     "output_type": "execute_result"
    }
   ],
   "source": [
    "# bootstrap SE\n",
    "\n",
    "np.random.seed(1)\n",
    "# Since y was DF, convert to series to obtain 1D array\n",
    "y_bs = pd.Series(y['quality_dummy'])\n",
    "\n",
    "nb=100\n",
    "# Bootstrap 500 times\n",
    "# Initialize an an array to store coef estimates for each BS, array shape = (# of bs iterations, # of features)\n",
    "bh_bootstrap = np.zeros((nb, X.shape[1]))\n",
    "\n",
    "# Perform the bootstrap procedure using for loop, where each iteration, a random sample is drawn, stored, then replaced \n",
    "for i in range(nb):\n",
    "    X_sample, y_sample = utils.resample(X, y_bs, replace=False, n_samples=500)\n",
    "    lgstc_reg.fit(X_sample, y_sample) \n",
    "    bh_bootstrap[i] = lgstc_reg.coef_\n",
    "\n",
    "# Compute the SE using formula given in the slides\n",
    "se_numerator = np.sum((bh_bootstrap -np.mean(bh_bootstrap,axis=0))**2,axis=0)\n",
    "se_bs=np.sqrt(se_numerator/(nb-1)).round(4)\n",
    "se_bs"
   ]
  },
  {
   "cell_type": "code",
   "execution_count": 16,
   "metadata": {},
   "outputs": [
    {
     "data": {
      "text/plain": [
       "fixed acidity           0.085387\n",
       "volatile acidity       -2.194440\n",
       "citric acid            -0.352342\n",
       "residual sugar          0.008594\n",
       "chlorides              -0.475194\n",
       "free sulfur dioxide     0.026949\n",
       "total sulfur dioxide   -0.017432\n",
       "density                -0.004531\n",
       "pH                     -0.222069\n",
       "sulphates               1.683258\n",
       "alcohol                 0.929569\n",
       "dtype: float64"
      ]
     },
     "execution_count": 16,
     "metadata": {},
     "output_type": "execute_result"
    },
    {
     "data": {
      "image/png": "[encoded data removed]",
      "text/plain": [
       "<Figure size 432x288 with 1 Axes>"
      ]
     },
     "metadata": {
      "needs_background": "light"
     },
     "output_type": "display_data"
    }
   ],
   "source": [
    "# Save 100 iterations into dataframe \n",
    "bh_bootstrap = pd.DataFrame(bh_bootstrap, columns=X.columns)\n",
    "\n",
    "# Plot one of the features and provide interpretation\n",
    "plt.hist(bh_bootstrap['citric acid'], bins=50)\n",
    "plt.axvline(x=np.mean(bh_bootstrap['citric acid']), color='red')\n",
    "\n",
    "bh_bootstrap.mean()"
   ]
  },
  {
   "cell_type": "markdown",
   "metadata": {},
   "source": [
    "#### Interpretation\n",
    "\n",
    "The coefficient on **'citric acid'** is **-0.327007**.It is **negative**. As 'citric acid' is a numeric variable, the interpretation is that all else being equal, the higher the citric acid level, the less likelihood the wine quality will turn out to be greater than 5."
   ]
  },
  {
   "cell_type": "markdown",
   "metadata": {},
   "source": [
    "### Q6"
   ]
  },
  {
   "cell_type": "markdown",
   "metadata": {},
   "source": [
    "6. Show whether the model overfits the training data."
   ]
  },
  {
   "cell_type": "code",
   "execution_count": 17,
   "metadata": {},
   "outputs": [],
   "source": [
    "# Create a row for train evaluation metrics\n",
    "\n",
    "ac_s_train = accuracy_score(y_train, y_train_pred)\n",
    "rec_s_train = recall_score(y_train,y_train_pred)\n",
    "prec_s_train = precision_score(y_train,y_train_pred)\n",
    "f1_train = f1_score(y_train,y_train_pred)\n",
    "\n",
    "results_Train=pd.DataFrame({\n",
    "    \"Accuracy\":ac_s_train,\n",
    "    \"Recall\":rec_s_train,\n",
    "    \"Precision\":prec_s_train,\n",
    "    \"F1_score\":f1_train\n",
    "},index=['Train_Evaluation_Metrics'])"
   ]
  },
  {
   "cell_type": "code",
   "execution_count": 18,
   "metadata": {},
   "outputs": [
    {
     "data": {
      "text/html": [
       "<div>\n",
       "<style scoped>\n",
       "    .dataframe tbody tr th:only-of-type {\n",
       "        vertical-align: middle;\n",
       "    }\n",
       "\n",
       "    .dataframe tbody tr th {\n",
       "        vertical-align: top;\n",
       "    }\n",
       "\n",
       "    .dataframe thead th {\n",
       "        text-align: right;\n",
       "    }\n",
       "</style>\n",
       "<table border=\"1\" class=\"dataframe\">\n",
       "  <thead>\n",
       "    <tr style=\"text-align: right;\">\n",
       "      <th></th>\n",
       "      <th>Accuracy</th>\n",
       "      <th>Recall</th>\n",
       "      <th>Precision</th>\n",
       "      <th>F1_score</th>\n",
       "    </tr>\n",
       "  </thead>\n",
       "  <tbody>\n",
       "    <tr>\n",
       "      <th>Train_Evaluation_Metrics</th>\n",
       "      <td>0.748957</td>\n",
       "      <td>0.752722</td>\n",
       "      <td>0.773163</td>\n",
       "      <td>0.762805</td>\n",
       "    </tr>\n",
       "  </tbody>\n",
       "</table>\n",
       "</div>"
      ],
      "text/plain": [
       "                          Accuracy    Recall  Precision  F1_score\n",
       "Train_Evaluation_Metrics  0.748957  0.752722   0.773163  0.762805"
      ]
     },
     "execution_count": 18,
     "metadata": {},
     "output_type": "execute_result"
    }
   ],
   "source": [
    "results_Train"
   ]
  },
  {
   "cell_type": "code",
   "execution_count": 19,
   "metadata": {},
   "outputs": [
    {
     "data": {
      "text/html": [
       "<div>\n",
       "<style scoped>\n",
       "    .dataframe tbody tr th:only-of-type {\n",
       "        vertical-align: middle;\n",
       "    }\n",
       "\n",
       "    .dataframe tbody tr th {\n",
       "        vertical-align: top;\n",
       "    }\n",
       "\n",
       "    .dataframe thead th {\n",
       "        text-align: right;\n",
       "    }\n",
       "</style>\n",
       "<table border=\"1\" class=\"dataframe\">\n",
       "  <thead>\n",
       "    <tr style=\"text-align: right;\">\n",
       "      <th></th>\n",
       "      <th>Accuracy</th>\n",
       "      <th>Recall</th>\n",
       "      <th>Precision</th>\n",
       "      <th>F1_score</th>\n",
       "    </tr>\n",
       "  </thead>\n",
       "  <tbody>\n",
       "    <tr>\n",
       "      <th>Test_Evaluation_Metrics</th>\n",
       "      <td>0.7375</td>\n",
       "      <td>0.716981</td>\n",
       "      <td>0.771574</td>\n",
       "      <td>0.743276</td>\n",
       "    </tr>\n",
       "  </tbody>\n",
       "</table>\n",
       "</div>"
      ],
      "text/plain": [
       "                         Accuracy    Recall  Precision  F1_score\n",
       "Test_Evaluation_Metrics    0.7375  0.716981   0.771574  0.743276"
      ]
     },
     "execution_count": 19,
     "metadata": {},
     "output_type": "execute_result"
    }
   ],
   "source": [
    "results_Test"
   ]
  },
  {
   "cell_type": "markdown",
   "metadata": {},
   "source": [
    "#### Comment\n",
    "\n",
    "Here, the results_Train & results_Test DFs store the accuracy, recall, precision, and F1 score of the training and testing dataset, accordingly. All 4 criteria declined slightly when switching from training to testing data. One can argue that the model overfits slightly, as the model captures unnecessary noise from the training data as opposed to the general pattern of the overall data; However, in our group's opinion, we think the decreases across scores are relatively small, and that overfitting is not a significant concern for this model."
   ]
  },
  {
   "cell_type": "markdown",
   "metadata": {},
   "source": [
    "### Q7"
   ]
  },
  {
   "cell_type": "markdown",
   "metadata": {},
   "source": [
    "7. Estimate the prediction accuracy using 5-fold cross-validation (see `sklearn.model_selection`). How does this statistic compare to the test error?\n"
   ]
  },
  {
   "cell_type": "code",
   "execution_count": 20,
   "metadata": {},
   "outputs": [
    {
     "name": "stdout",
     "output_type": "stream",
     "text": [
      "Accuracy: 0.7310932601880877\n",
      "Precision: 0.7593371674035517\n",
      "Recall: 0.7391812865497076\n",
      "F1-score: 0.7423742830285938\n"
     ]
    }
   ],
   "source": [
    "scoring = ['accuracy', 'precision', 'recall', 'f1']\n",
    "kf= 5\n",
    "results = model_selection.cross_validate(lgstc_reg, X, y['quality_dummy'], cv=kf, scoring=scoring)\n",
    "\n",
    "\n",
    "print(\"Accuracy:\", np.mean(results['test_accuracy']))\n",
    "print(\"Precision:\",np.mean(results['test_precision']))\n",
    "print(\"Recall:\",np.mean(results['test_recall']))\n",
    "print(\"F1-score:\", np.mean(results['test_f1']))"
   ]
  },
  {
   "cell_type": "markdown",
   "metadata": {},
   "source": [
    "#### Comment \n",
    "\n",
    "The above returned scores show the average scores across 5-fold CV. The average accuracy score is 0.731. The test error is calculated as 1- accuracy for the test data, or 1 - 0.7375 = 0.2625. We can see the accuracy score is slightly lower for the 5-fold CV. "
   ]
  },
  {
   "cell_type": "markdown",
   "metadata": {},
   "source": [
    "### Q8"
   ]
  },
  {
   "cell_type": "markdown",
   "metadata": {},
   "source": [
    "8. Compute the confusion matrix for the test sample (see sklearn.metrics). Comment on the performance of the model."
   ]
  },
  {
   "cell_type": "code",
   "execution_count": 21,
   "metadata": {},
   "outputs": [
    {
     "data": {
      "text/plain": [
       "array([[143,  45],\n",
       "       [ 60, 152]], dtype=int64)"
      ]
     },
     "execution_count": 21,
     "metadata": {},
     "output_type": "execute_result"
    }
   ],
   "source": [
    "cm = metrics.confusion_matrix(y_test,y_test_pred)\n",
    "cm"
   ]
  },
  {
   "cell_type": "code",
   "execution_count": 22,
   "metadata": {},
   "outputs": [
    {
     "data": {
      "text/plain": [
       "array([[35.75, 11.25],\n",
       "       [15.  , 38.  ]])"
      ]
     },
     "execution_count": 22,
     "metadata": {},
     "output_type": "execute_result"
    }
   ],
   "source": [
    "cm_in_pct = cm/len(y_test_pred)*100\n",
    "cm_in_pct"
   ]
  },
  {
   "cell_type": "code",
   "execution_count": 23,
   "metadata": {},
   "outputs": [],
   "source": [
    "# True Negative\n",
    "TN =cm[0][0] #TN\n",
    "# False Positive\n",
    "FP = cm[0][1] #type 1 error\n",
    "# False Negative\n",
    "FN = cm[1][0] #type 2 error\n",
    "#True Positive\n",
    "TP=cm[1][1] #TP\n",
    "\n",
    "TNR = TN/(FP+TN) \n",
    "TPR = TP/(FN+TP) # also recall score\n",
    "FPR = FP/(FP+TN)\n",
    "\n",
    "results_Test['TNR']=TNR\n",
    "results_Test['TPR']=TPR\n",
    "results_Test['FPR']=FPR"
   ]
  },
  {
   "cell_type": "code",
   "execution_count": 24,
   "metadata": {},
   "outputs": [
    {
     "data": {
      "text/html": [
       "<div>\n",
       "<style scoped>\n",
       "    .dataframe tbody tr th:only-of-type {\n",
       "        vertical-align: middle;\n",
       "    }\n",
       "\n",
       "    .dataframe tbody tr th {\n",
       "        vertical-align: top;\n",
       "    }\n",
       "\n",
       "    .dataframe thead th {\n",
       "        text-align: right;\n",
       "    }\n",
       "</style>\n",
       "<table border=\"1\" class=\"dataframe\">\n",
       "  <thead>\n",
       "    <tr style=\"text-align: right;\">\n",
       "      <th></th>\n",
       "      <th>Accuracy</th>\n",
       "      <th>Recall</th>\n",
       "      <th>Precision</th>\n",
       "      <th>F1_score</th>\n",
       "      <th>TNR</th>\n",
       "      <th>TPR</th>\n",
       "      <th>FPR</th>\n",
       "    </tr>\n",
       "  </thead>\n",
       "  <tbody>\n",
       "    <tr>\n",
       "      <th>Test_Evaluation_Metrics</th>\n",
       "      <td>0.7375</td>\n",
       "      <td>0.716981</td>\n",
       "      <td>0.771574</td>\n",
       "      <td>0.743276</td>\n",
       "      <td>0.760638</td>\n",
       "      <td>0.716981</td>\n",
       "      <td>0.239362</td>\n",
       "    </tr>\n",
       "  </tbody>\n",
       "</table>\n",
       "</div>"
      ],
      "text/plain": [
       "                         Accuracy    Recall  Precision  F1_score       TNR  \\\n",
       "Test_Evaluation_Metrics    0.7375  0.716981   0.771574  0.743276  0.760638   \n",
       "\n",
       "                              TPR       FPR  \n",
       "Test_Evaluation_Metrics  0.716981  0.239362  "
      ]
     },
     "execution_count": 24,
     "metadata": {},
     "output_type": "execute_result"
    }
   ],
   "source": [
    "results_Test"
   ]
  },
  {
   "cell_type": "markdown",
   "metadata": {},
   "source": [
    "#### Comment\n",
    "\n",
    "The confusion matrix captures the type 1 and type 2 error trade-offs, and it can be used in conjunction with other evaluation matrics to gauge the performance of the model. \n",
    "\n",
    "TNR measures the actual negative cases correctly classified by the model. The model has a TNR of approximately 0.76.\n",
    "\n",
    "TPR, or recall score, measure the actual positive cases correctly classified by the model. The model has a TPR of approximately 0.72.\n",
    "\n",
    "FPR measures the % of FP, or the acutal negative cases being incorrectly classified as positive by the model. The model has a FPR of approximately 0.24.\n",
    "\n",
    "Overall, the TNR and TPR of the model is relatively good, and the FPR is considered to be reasonable. Thus, the confusion matrix and the relevant metrics computed using confusion matrix suggest the model has a decent performance."
   ]
  },
  {
   "cell_type": "markdown",
   "metadata": {},
   "source": [
    "### Q9"
   ]
  },
  {
   "cell_type": "markdown",
   "metadata": {},
   "source": [
    "9. Using the `pygam` module, fit a Generalised Linear Model for classification. Compute the training and test accuracy of the GAM model (see `sklearn.metrics`). Comment on the results."
   ]
  },
  {
   "cell_type": "code",
   "execution_count": 25,
   "metadata": {},
   "outputs": [],
   "source": [
    "# Fit logistic GAM using pygam\n",
    "gam_model=pygam.LogisticGAM().fit(X_train,y_train)\n",
    "\n",
    "# Make in-sample and testing dataset predictions\n",
    "y_gam_train_pred = gam_model.predict(X_train)\n",
    "y_gam_test_pred = gam_model.predict(X_test)\n",
    "\n",
    "# Compute training and testing dataset accuracy of the LogisticGAM model\n",
    "gam_train_accuracy= metrics.accuracy_score(y_train,y_gam_train_pred) \n",
    "gam_test_accuracy = metrics.accuracy_score(y_test,y_gam_test_pred)"
   ]
  },
  {
   "cell_type": "code",
   "execution_count": 26,
   "metadata": {},
   "outputs": [
    {
     "name": "stdout",
     "output_type": "stream",
     "text": [
      "Training dataset accuracy for unregulated logistic model: \u001b[1m0.7998\u001b[0m; Testing dataset accuracy for unregulated logistic model: \u001b[1m0.7325\u001b[0m.\n"
     ]
    }
   ],
   "source": [
    "print(f\"Training dataset accuracy for unregulated logistic model: \\033[1m{gam_train_accuracy:.4f}\\033[0m; Testing dataset accuracy for unregulated logistic model: \\033[1m{gam_test_accuracy:.4f}\\033[0m.\")"
   ]
  },
  {
   "cell_type": "markdown",
   "metadata": {},
   "source": [
    "#### Comment\n",
    "\n",
    "The Pygam fitted Logistic model has a similar accuracy score in the testing set  to the sklearn fitted logisitic model; However, accuracy of the training score is considerably higher than the sklearn fitted logisitic model. One potential explaination is that the sklearn model incorporates regulariziation as default when fitting the model. Therefore, the sklearn logisitic model was not subject to overfit. Whereas, in case of the logisitic model fitted using Pygam, the training vs. testing accuracy score changed quite a bit, and it is reasonable to say the model is somewhat overfitted."
   ]
  },
  {
   "cell_type": "markdown",
   "metadata": {},
   "source": [
    "### Q10"
   ]
  },
  {
   "cell_type": "markdown",
   "metadata": {},
   "source": [
    "10. Use grid-search to find a good value for the regularisation parameters (see the `gridsearch` method of the model). Could you improve on the previous fit?"
   ]
  },
  {
   "cell_type": "markdown",
   "metadata": {},
   "source": [
    "#### Additional Clarification\n",
    "\n",
    "For Q10, I have used the first 2 methods presented in the Pygam documentation, the first method is a simple gridsearch, while the second method is a more complicated version, and it takes longer to converge. Upon examining the lambda values given by both methods, they return very similar value of approximately 3.05, so here I kept the second approach which slightly improves the test accuracy score."
   ]
  },
  {
   "cell_type": "code",
   "execution_count": 27,
   "metadata": {
    "scrolled": true
   },
   "outputs": [],
   "source": [
    "# Standard Method #1\n",
    "\n",
    "# reg_gam_model=pygam.LogisticGAM().fit(X_train,y_train)\n",
    "# lam = np.logspace(-3,3,11)\n",
    "# reg_gam_model.gridsearch(X_train,y_train,lam=lam,keep_best=True,progress=False,return_scores=True)"
   ]
  },
  {
   "cell_type": "code",
   "execution_count": 28,
   "metadata": {
    "scrolled": true
   },
   "outputs": [
    {
     "name": "stderr",
     "output_type": "stream",
     "text": [
      " 48% (24 of 50) |###########             | Elapsed Time: 0:00:18 ETA:   0:03:19"
     ]
    },
    {
     "name": "stdout",
     "output_type": "stream",
     "text": [
      "did not converge\n"
     ]
    },
    {
     "name": "stderr",
     "output_type": "stream",
     "text": [
      "100% (50 of 50) |########################| Elapsed Time: 0:00:30 Time:  0:00:30\n"
     ]
    },
    {
     "data": {
      "text/plain": [
       "OrderedDict([(LogisticGAM(callbacks=[Deviance(), Diffs(), Accuracy()], \n",
       "                 fit_intercept=True, max_iter=100, \n",
       "                 terms=s(0) + s(1) + s(2) + s(3) + s(4) + s(5) + s(6) + s(7) + s(8) + s(9) + s(10) + intercept,\n",
       "                 tol=0.0001, verbose=False),\n",
       "              3.045683158939055),\n",
       "             (LogisticGAM(callbacks=[Deviance(), Diffs(), Accuracy()], \n",
       "                 fit_intercept=True, max_iter=100, \n",
       "                 terms=s(0) + s(1) + s(2) + s(3) + s(4) + s(5) + s(6) + s(7) + s(8) + s(9) + s(10) + intercept,\n",
       "                 tol=0.0001, verbose=False),\n",
       "              3.0502550704057945),\n",
       "             (LogisticGAM(callbacks=[Deviance(), Diffs(), Accuracy()], \n",
       "                 fit_intercept=True, max_iter=100, \n",
       "                 terms=s(0) + s(1) + s(2) + s(3) + s(4) + s(5) + s(6) + s(7) + s(8) + s(9) + s(10) + intercept,\n",
       "                 tol=0.0001, verbose=False),\n",
       "              3.051537646917108),\n",
       "             (LogisticGAM(callbacks=[Deviance(), Diffs(), Accuracy()], \n",
       "                 fit_intercept=True, max_iter=100, \n",
       "                 terms=s(0) + s(1) + s(2) + s(3) + s(4) + s(5) + s(6) + s(7) + s(8) + s(9) + s(10) + intercept,\n",
       "                 tol=0.0001, verbose=False),\n",
       "              3.0419324585089846),\n",
       "             (LogisticGAM(callbacks=[Deviance(), Diffs(), Accuracy()], \n",
       "                 fit_intercept=True, max_iter=100, \n",
       "                 terms=s(0) + s(1) + s(2) + s(3) + s(4) + s(5) + s(6) + s(7) + s(8) + s(9) + s(10) + intercept,\n",
       "                 tol=0.0001, verbose=False),\n",
       "              3.0553834669355666),\n",
       "             (LogisticGAM(callbacks=[Deviance(), Diffs(), Accuracy()], \n",
       "                 fit_intercept=True, max_iter=100, \n",
       "                 terms=s(0) + s(1) + s(2) + s(3) + s(4) + s(5) + s(6) + s(7) + s(8) + s(9) + s(10) + intercept,\n",
       "                 tol=0.0001, verbose=False),\n",
       "              3.0364137083515463),\n",
       "             (LogisticGAM(callbacks=[Deviance(), Diffs(), Accuracy()], \n",
       "                 fit_intercept=True, max_iter=100, \n",
       "                 terms=s(0) + s(1) + s(2) + s(3) + s(4) + s(5) + s(6) + s(7) + s(8) + s(9) + s(10) + intercept,\n",
       "                 tol=0.0001, verbose=False),\n",
       "              3.053313542622997),\n",
       "             (LogisticGAM(callbacks=[Deviance(), Diffs(), Accuracy()], \n",
       "                 fit_intercept=True, max_iter=100, \n",
       "                 terms=s(0) + s(1) + s(2) + s(3) + s(4) + s(5) + s(6) + s(7) + s(8) + s(9) + s(10) + intercept,\n",
       "                 tol=0.0001, verbose=False),\n",
       "              3.0455583595501072),\n",
       "             (LogisticGAM(callbacks=[Deviance(), Diffs(), Accuracy()], \n",
       "                 fit_intercept=True, max_iter=100, \n",
       "                 terms=s(0) + s(1) + s(2) + s(3) + s(4) + s(5) + s(6) + s(7) + s(8) + s(9) + s(10) + intercept,\n",
       "                 tol=0.0001, verbose=False),\n",
       "              3.0411904876826465),\n",
       "             (LogisticGAM(callbacks=[Deviance(), Diffs(), Accuracy()], \n",
       "                 fit_intercept=True, max_iter=100, \n",
       "                 terms=s(0) + s(1) + s(2) + s(3) + s(4) + s(5) + s(6) + s(7) + s(8) + s(9) + s(10) + intercept,\n",
       "                 tol=0.0001, verbose=False),\n",
       "              3.0464226193193897),\n",
       "             (LogisticGAM(callbacks=[Deviance(), Diffs(), Accuracy()], \n",
       "                 fit_intercept=True, max_iter=100, \n",
       "                 terms=s(0) + s(1) + s(2) + s(3) + s(4) + s(5) + s(6) + s(7) + s(8) + s(9) + s(10) + intercept,\n",
       "                 tol=0.0001, verbose=False),\n",
       "              3.0530773641920375),\n",
       "             (LogisticGAM(callbacks=[Deviance(), Diffs(), Accuracy()], \n",
       "                 fit_intercept=True, max_iter=100, \n",
       "                 terms=s(0) + s(1) + s(2) + s(3) + s(4) + s(5) + s(6) + s(7) + s(8) + s(9) + s(10) + intercept,\n",
       "                 tol=0.0001, verbose=False),\n",
       "              3.0440246241664015),\n",
       "             (LogisticGAM(callbacks=[Deviance(), Diffs(), Accuracy()], \n",
       "                 fit_intercept=True, max_iter=100, \n",
       "                 terms=s(0) + s(1) + s(2) + s(3) + s(4) + s(5) + s(6) + s(7) + s(8) + s(9) + s(10) + intercept,\n",
       "                 tol=0.0001, verbose=False),\n",
       "              3.0378647773502623),\n",
       "             (LogisticGAM(callbacks=[Deviance(), Diffs(), Accuracy()], \n",
       "                 fit_intercept=True, max_iter=100, \n",
       "                 terms=s(0) + s(1) + s(2) + s(3) + s(4) + s(5) + s(6) + s(7) + s(8) + s(9) + s(10) + intercept,\n",
       "                 tol=0.0001, verbose=False),\n",
       "              3.05332699305797),\n",
       "             (LogisticGAM(callbacks=[Deviance(), Diffs(), Accuracy()], \n",
       "                 fit_intercept=True, max_iter=100, \n",
       "                 terms=s(0) + s(1) + s(2) + s(3) + s(4) + s(5) + s(6) + s(7) + s(8) + s(9) + s(10) + intercept,\n",
       "                 tol=0.0001, verbose=False),\n",
       "              3.0495579453943304),\n",
       "             (LogisticGAM(callbacks=[Deviance(), Diffs(), Accuracy()], \n",
       "                 fit_intercept=True, max_iter=100, \n",
       "                 terms=s(0) + s(1) + s(2) + s(3) + s(4) + s(5) + s(6) + s(7) + s(8) + s(9) + s(10) + intercept,\n",
       "                 tol=0.0001, verbose=False),\n",
       "              3.055970945423068),\n",
       "             (LogisticGAM(callbacks=[Deviance(), Diffs(), Accuracy()], \n",
       "                 fit_intercept=True, max_iter=100, \n",
       "                 terms=s(0) + s(1) + s(2) + s(3) + s(4) + s(5) + s(6) + s(7) + s(8) + s(9) + s(10) + intercept,\n",
       "                 tol=0.0001, verbose=False),\n",
       "              3.0509779206076275),\n",
       "             (LogisticGAM(callbacks=[Deviance(), Diffs(), Accuracy()], \n",
       "                 fit_intercept=True, max_iter=100, \n",
       "                 terms=s(0) + s(1) + s(2) + s(3) + s(4) + s(5) + s(6) + s(7) + s(8) + s(9) + s(10) + intercept,\n",
       "                 tol=0.0001, verbose=False),\n",
       "              3.0482825678513854),\n",
       "             (LogisticGAM(callbacks=[Deviance(), Diffs(), Accuracy()], \n",
       "                 fit_intercept=True, max_iter=100, \n",
       "                 terms=s(0) + s(1) + s(2) + s(3) + s(4) + s(5) + s(6) + s(7) + s(8) + s(9) + s(10) + intercept,\n",
       "                 tol=0.0001, verbose=False),\n",
       "              3.056050169349422),\n",
       "             (LogisticGAM(callbacks=[Deviance(), Diffs(), Accuracy()], \n",
       "                 fit_intercept=True, max_iter=100, \n",
       "                 terms=s(0) + s(1) + s(2) + s(3) + s(4) + s(5) + s(6) + s(7) + s(8) + s(9) + s(10) + intercept,\n",
       "                 tol=0.0001, verbose=False),\n",
       "              3.0568455964216623),\n",
       "             (LogisticGAM(callbacks=[Deviance(), Diffs(), Accuracy()], \n",
       "                 fit_intercept=True, max_iter=100, \n",
       "                 terms=s(0) + s(1) + s(2) + s(3) + s(4) + s(5) + s(6) + s(7) + s(8) + s(9) + s(10) + intercept,\n",
       "                 tol=0.0001, verbose=False),\n",
       "              3.049981553130797),\n",
       "             (LogisticGAM(callbacks=[Deviance(), Diffs(), Accuracy()], \n",
       "                 fit_intercept=True, max_iter=100, \n",
       "                 terms=s(0) + s(1) + s(2) + s(3) + s(4) + s(5) + s(6) + s(7) + s(8) + s(9) + s(10) + intercept,\n",
       "                 tol=0.0001, verbose=False),\n",
       "              3.0428322645085686),\n",
       "             (LogisticGAM(callbacks=[Deviance(), Diffs(), Accuracy()], \n",
       "                 fit_intercept=True, max_iter=100, \n",
       "                 terms=s(0) + s(1) + s(2) + s(3) + s(4) + s(5) + s(6) + s(7) + s(8) + s(9) + s(10) + intercept,\n",
       "                 tol=0.0001, verbose=False),\n",
       "              3.056603327677063),\n",
       "             (LogisticGAM(callbacks=[Deviance(), Diffs(), Accuracy()], \n",
       "                 fit_intercept=True, max_iter=100, \n",
       "                 terms=s(0) + s(1) + s(2) + s(3) + s(4) + s(5) + s(6) + s(7) + s(8) + s(9) + s(10) + intercept,\n",
       "                 tol=0.0001, verbose=False),\n",
       "              3.0434857779046225),\n",
       "             (LogisticGAM(callbacks=[Deviance(), Diffs(), Accuracy()], \n",
       "                 fit_intercept=True, max_iter=100, \n",
       "                 terms=s(0) + s(1) + s(2) + s(3) + s(4) + s(5) + s(6) + s(7) + s(8) + s(9) + s(10) + intercept,\n",
       "                 tol=0.0001, verbose=False),\n",
       "              3.0504120387165683),\n",
       "             (LogisticGAM(callbacks=[Deviance(), Diffs(), Accuracy()], \n",
       "                 fit_intercept=True, max_iter=100, \n",
       "                 terms=s(0) + s(1) + s(2) + s(3) + s(4) + s(5) + s(6) + s(7) + s(8) + s(9) + s(10) + intercept,\n",
       "                 tol=0.0001, verbose=False),\n",
       "              3.0584019684872703),\n",
       "             (LogisticGAM(callbacks=[Deviance(), Diffs(), Accuracy()], \n",
       "                 fit_intercept=True, max_iter=100, \n",
       "                 terms=s(0) + s(1) + s(2) + s(3) + s(4) + s(5) + s(6) + s(7) + s(8) + s(9) + s(10) + intercept,\n",
       "                 tol=0.0001, verbose=False),\n",
       "              3.047277449251678),\n",
       "             (LogisticGAM(callbacks=[Deviance(), Diffs(), Accuracy()], \n",
       "                 fit_intercept=True, max_iter=100, \n",
       "                 terms=s(0) + s(1) + s(2) + s(3) + s(4) + s(5) + s(6) + s(7) + s(8) + s(9) + s(10) + intercept,\n",
       "                 tol=0.0001, verbose=False),\n",
       "              3.0387941770759577),\n",
       "             (LogisticGAM(callbacks=[Deviance(), Diffs(), Accuracy()], \n",
       "                 fit_intercept=True, max_iter=100, \n",
       "                 terms=s(0) + s(1) + s(2) + s(3) + s(4) + s(5) + s(6) + s(7) + s(8) + s(9) + s(10) + intercept,\n",
       "                 tol=0.0001, verbose=False),\n",
       "              3.05771241657848),\n",
       "             (LogisticGAM(callbacks=[Deviance(), Diffs(), Accuracy()], \n",
       "                 fit_intercept=True, max_iter=100, \n",
       "                 terms=s(0) + s(1) + s(2) + s(3) + s(4) + s(5) + s(6) + s(7) + s(8) + s(9) + s(10) + intercept,\n",
       "                 tol=0.0001, verbose=False),\n",
       "              3.0492543447901608),\n",
       "             (LogisticGAM(callbacks=[Deviance(), Diffs(), Accuracy()], \n",
       "                 fit_intercept=True, max_iter=100, \n",
       "                 terms=s(0) + s(1) + s(2) + s(3) + s(4) + s(5) + s(6) + s(7) + s(8) + s(9) + s(10) + intercept,\n",
       "                 tol=0.0001, verbose=False),\n",
       "              3.045373768771977),\n",
       "             (LogisticGAM(callbacks=[Deviance(), Diffs(), Accuracy()], \n",
       "                 fit_intercept=True, max_iter=100, \n",
       "                 terms=s(0) + s(1) + s(2) + s(3) + s(4) + s(5) + s(6) + s(7) + s(8) + s(9) + s(10) + intercept,\n",
       "                 tol=0.0001, verbose=False),\n",
       "              3.0427697175171207),\n",
       "             (LogisticGAM(callbacks=[Deviance(), Diffs(), Accuracy()], \n",
       "                 fit_intercept=True, max_iter=100, \n",
       "                 terms=s(0) + s(1) + s(2) + s(3) + s(4) + s(5) + s(6) + s(7) + s(8) + s(9) + s(10) + intercept,\n",
       "                 tol=0.0001, verbose=False),\n",
       "              3.046087445912764),\n",
       "             (LogisticGAM(callbacks=[Deviance(), Diffs(), Accuracy()], \n",
       "                 fit_intercept=True, max_iter=100, \n",
       "                 terms=s(0) + s(1) + s(2) + s(3) + s(4) + s(5) + s(6) + s(7) + s(8) + s(9) + s(10) + intercept,\n",
       "                 tol=0.0001, verbose=False),\n",
       "              3.035192447524382),\n",
       "             (LogisticGAM(callbacks=[Deviance(), Diffs(), Accuracy()], \n",
       "                 fit_intercept=True, max_iter=100, \n",
       "                 terms=s(0) + s(1) + s(2) + s(3) + s(4) + s(5) + s(6) + s(7) + s(8) + s(9) + s(10) + intercept,\n",
       "                 tol=0.0001, verbose=False),\n",
       "              3.0445397792222537),\n",
       "             (LogisticGAM(callbacks=[Deviance(), Diffs(), Accuracy()], \n",
       "                 fit_intercept=True, max_iter=100, \n",
       "                 terms=s(0) + s(1) + s(2) + s(3) + s(4) + s(5) + s(6) + s(7) + s(8) + s(9) + s(10) + intercept,\n",
       "                 tol=0.0001, verbose=False),\n",
       "              3.038446137836019),\n",
       "             (LogisticGAM(callbacks=[Deviance(), Diffs(), Accuracy()], \n",
       "                 fit_intercept=True, max_iter=100, \n",
       "                 terms=s(0) + s(1) + s(2) + s(3) + s(4) + s(5) + s(6) + s(7) + s(8) + s(9) + s(10) + intercept,\n",
       "                 tol=0.0001, verbose=False),\n",
       "              3.0285257174356124),\n",
       "             (LogisticGAM(callbacks=[Deviance(), Diffs(), Accuracy()], \n",
       "                 fit_intercept=True, max_iter=100, \n",
       "                 terms=s(0) + s(1) + s(2) + s(3) + s(4) + s(5) + s(6) + s(7) + s(8) + s(9) + s(10) + intercept,\n",
       "                 tol=0.0001, verbose=False),\n",
       "              3.03986246731449),\n",
       "             (LogisticGAM(callbacks=[Deviance(), Diffs(), Accuracy()], \n",
       "                 fit_intercept=True, max_iter=100, \n",
       "                 terms=s(0) + s(1) + s(2) + s(3) + s(4) + s(5) + s(6) + s(7) + s(8) + s(9) + s(10) + intercept,\n",
       "                 tol=0.0001, verbose=False),\n",
       "              3.0474063213326),\n",
       "             (LogisticGAM(callbacks=[Deviance(), Diffs(), Accuracy()], \n",
       "                 fit_intercept=True, max_iter=100, \n",
       "                 terms=s(0) + s(1) + s(2) + s(3) + s(4) + s(5) + s(6) + s(7) + s(8) + s(9) + s(10) + intercept,\n",
       "                 tol=0.0001, verbose=False),\n",
       "              3.0344929991870515),\n",
       "             (LogisticGAM(callbacks=[Deviance(), Diffs(), Accuracy()], \n",
       "                 fit_intercept=True, max_iter=100, \n",
       "                 terms=s(0) + s(1) + s(2) + s(3) + s(4) + s(5) + s(6) + s(7) + s(8) + s(9) + s(10) + intercept,\n",
       "                 tol=0.0001, verbose=False),\n",
       "              3.050536189602224),\n",
       "             (LogisticGAM(callbacks=[Deviance(), Diffs(), Accuracy()], \n",
       "                 fit_intercept=True, max_iter=100, \n",
       "                 terms=s(0) + s(1) + s(2) + s(3) + s(4) + s(5) + s(6) + s(7) + s(8) + s(9) + s(10) + intercept,\n",
       "                 tol=0.0001, verbose=False),\n",
       "              3.041139798335691),\n",
       "             (LogisticGAM(callbacks=[Deviance(), Diffs(), Accuracy()], \n",
       "                 fit_intercept=True, max_iter=100, \n",
       "                 terms=s(0) + s(1) + s(2) + s(3) + s(4) + s(5) + s(6) + s(7) + s(8) + s(9) + s(10) + intercept,\n",
       "                 tol=0.0001, verbose=False),\n",
       "              3.0478195463804134),\n",
       "             (LogisticGAM(callbacks=[Deviance(), Diffs(), Accuracy()], \n",
       "                 fit_intercept=True, max_iter=100, \n",
       "                 terms=s(0) + s(1) + s(2) + s(3) + s(4) + s(5) + s(6) + s(7) + s(8) + s(9) + s(10) + intercept,\n",
       "                 tol=0.0001, verbose=False),\n",
       "              3.0425677271815377),\n",
       "             (LogisticGAM(callbacks=[Deviance(), Diffs(), Accuracy()], \n",
       "                 fit_intercept=True, max_iter=100, \n",
       "                 terms=s(0) + s(1) + s(2) + s(3) + s(4) + s(5) + s(6) + s(7) + s(8) + s(9) + s(10) + intercept,\n",
       "                 tol=0.0001, verbose=False),\n",
       "              3.0343514902569146),\n",
       "             (LogisticGAM(callbacks=[Deviance(), Diffs(), Accuracy()], \n",
       "                 fit_intercept=True, max_iter=100, \n",
       "                 terms=s(0) + s(1) + s(2) + s(3) + s(4) + s(5) + s(6) + s(7) + s(8) + s(9) + s(10) + intercept,\n",
       "                 tol=0.0001, verbose=False),\n",
       "              3.050136217284388),\n",
       "             (LogisticGAM(callbacks=[Deviance(), Diffs(), Accuracy()], \n",
       "                 fit_intercept=True, max_iter=100, \n",
       "                 terms=s(0) + s(1) + s(2) + s(3) + s(4) + s(5) + s(6) + s(7) + s(8) + s(9) + s(10) + intercept,\n",
       "                 tol=0.0001, verbose=False),\n",
       "              3.044342114044165),\n",
       "             (LogisticGAM(callbacks=[Deviance(), Diffs(), Accuracy()], \n",
       "                 fit_intercept=True, max_iter=100, \n",
       "                 terms=s(0) + s(1) + s(2) + s(3) + s(4) + s(5) + s(6) + s(7) + s(8) + s(9) + s(10) + intercept,\n",
       "                 tol=0.0001, verbose=False),\n",
       "              3.0593780755361593),\n",
       "             (LogisticGAM(callbacks=[Deviance(), Diffs(), Accuracy()], \n",
       "                 fit_intercept=True, max_iter=100, \n",
       "                 terms=s(0) + s(1) + s(2) + s(3) + s(4) + s(5) + s(6) + s(7) + s(8) + s(9) + s(10) + intercept,\n",
       "                 tol=0.0001, verbose=False),\n",
       "              3.054422012779907),\n",
       "             (LogisticGAM(callbacks=[Deviance(), Diffs(), Accuracy()], \n",
       "                 fit_intercept=True, max_iter=100, \n",
       "                 terms=s(0) + s(1) + s(2) + s(3) + s(4) + s(5) + s(6) + s(7) + s(8) + s(9) + s(10) + intercept,\n",
       "                 tol=0.0001, verbose=False),\n",
       "              3.032002413275963),\n",
       "             (LogisticGAM(callbacks=[Deviance(), Diffs(), Accuracy()], \n",
       "                 fit_intercept=True, max_iter=100, \n",
       "                 terms=s(0) + s(1) + s(2) + s(3) + s(4) + s(5) + s(6) + s(7) + s(8) + s(9) + s(10) + intercept,\n",
       "                 tol=0.0001, verbose=False),\n",
       "              3.052004343022475)])"
      ]
     },
     "execution_count": 28,
     "metadata": {},
     "output_type": "execute_result"
    }
   ],
   "source": [
    "reg_gam_model=pygam.LogisticGAM().fit(X_train,y_train)\n",
    "lams = np.exp(np.random.random((50, 11)) * 6 - 3)\n",
    "reg_gam_model.gridsearch(X_train,y_train,lam=lams,keep_best=True,progress=True,return_scores=True)#return_scores=True"
   ]
  },
  {
   "cell_type": "code",
   "execution_count": 29,
   "metadata": {},
   "outputs": [],
   "source": [
    "# Make in-sample and testing dataset predictions\n",
    "# For 11 lambda value grid search\n",
    "reg_y_gam_train_pred = reg_gam_model.predict(X_train)\n",
    "reg_y_gam_test_pred = reg_gam_model.predict(X_test)\n",
    "\n",
    "# Compute training and testing dataset accuracy of the LogisticGAM model\n",
    "reg_gam_train_accuracy= metrics.accuracy_score(y_train,reg_y_gam_train_pred) \n",
    "reg_gam_test_accuracy = metrics.accuracy_score(y_test,reg_y_gam_test_pred)"
   ]
  },
  {
   "cell_type": "code",
   "execution_count": 30,
   "metadata": {},
   "outputs": [
    {
     "name": "stdout",
     "output_type": "stream",
     "text": [
      "Training dataset accuracy for regulated logistic model: \u001b[1m0.7998\u001b[0m; Testing dataset accuracy for regulated logistic model: \u001b[1m0.7425\u001b[0m.\n"
     ]
    }
   ],
   "source": [
    "print(f\"Training dataset accuracy for regulated logistic model: \\033[1m{reg_gam_train_accuracy:.4f}\\033[0m; Testing dataset accuracy for regulated logistic model: \\033[1m{reg_gam_test_accuracy:.4f}\\033[0m.\")"
   ]
  },
  {
   "cell_type": "markdown",
   "metadata": {},
   "source": [
    "#### Comment\n",
    "\n",
    "Comparing the LogisitcGAM model for regulated and unregulated cases, the training data accuracy score between these models did not change, while the accuracy score on the testing dataset improved slightly from 0.725 to 0.7425 for the regulated logistic model. The result shows modest improvements on the testing data accuracy."
   ]
  },
  {
   "cell_type": "markdown",
   "metadata": {},
   "source": [
    "### Q11"
   ]
  },
  {
   "cell_type": "markdown",
   "metadata": {},
   "source": [
    "11. Display the partial dependence plots for each variable."
   ]
  },
  {
   "cell_type": "code",
   "execution_count": 31,
   "metadata": {},
   "outputs": [
    {
     "data": {
      "image/png": "[encoded data removed]",
      "text/plain": [
       "<Figure size 864x1152 with 12 Axes>"
      ]
     },
     "metadata": {
      "needs_background": "light"
     },
     "output_type": "display_data"
    }
   ],
   "source": [
    "pdp_titles = X.columns.tolist()\n",
    "\n",
    "num_cols = 3\n",
    "num_rows = (len(pdp_titles) + num_cols - 1) // num_cols\n",
    "\n",
    "fig, axs = plt.subplots(num_rows, num_cols, figsize=(12, 4*num_rows))\n",
    "plt.subplots_adjust(wspace=0.4, hspace=0.4)\n",
    "\n",
    "# Adjusting for the subplots config to make plots more presentable\n",
    "for i, ax in enumerate(axs.flat):\n",
    "    if i < len(pdp_titles):\n",
    "        # Switch to reg_gam_model (regulated) from gam_model (unregulated) as discussed in Piazza\n",
    "        XX = reg_gam_model.generate_X_grid(term=i)\n",
    "        pdep, confi = gam_model.partial_dependence(term=i, width=0.95)\n",
    "        ax.plot(XX[:, i], pdep)\n",
    "        ax.plot(XX[:, i], confi, c='r', ls='--')\n",
    "        ax.set_title(pdp_titles[i])\n",
    "\n",
    "# Remove empty subplots\n",
    "if len(pdp_titles) < num_rows * num_cols:\n",
    "    for ax in axs.flat[len(pdp_titles):]:\n",
    "        ax.set_visible(False)"
   ]
  },
  {
   "cell_type": "code",
   "execution_count": null,
   "metadata": {},
   "outputs": [],
   "source": []
  }
 ],
 "metadata": {
  "kernelspec": {
   "display_name": "Python 3",
   "language": "python",
   "name": "python3"
  },
  "language_info": {
   "codemirror_mode": {
    "name": "ipython",
    "version": 3
   },
   "file_extension": ".py",
   "mimetype": "text/x-python",
   "name": "python",
   "nbconvert_exporter": "python",
   "pygments_lexer": "ipython3",
   "version": "3.8.3"
  },
  "vscode": {
   "interpreter": {
    "hash": "7302c24fb2197c6d308d8a799b8c1926c619b1d29b7e68a60c06bc7e0374fe3f"
   }
  }
 },
 "nbformat": 4,
 "nbformat_minor": 2
}
